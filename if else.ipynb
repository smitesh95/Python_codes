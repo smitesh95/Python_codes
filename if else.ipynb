{
 "cells": [
  {
   "cell_type": "code",
   "execution_count": 4,
   "metadata": {},
   "outputs": [
    {
     "name": "stdout",
     "output_type": "stream",
     "text": [
      "enter a number20\n",
      "20 is greater than zero\n"
     ]
    }
   ],
   "source": [
    "a=int(input(\"enter a number\"))\n",
    "if(a>0):\n",
    "    print('{} is greater than zero'.format(a))\n",
    "else:\n",
    "    print('{} is less than or equal to zero'.format(a))"
   ]
  },
  {
   "cell_type": "code",
   "execution_count": 9,
   "metadata": {},
   "outputs": [
    {
     "name": "stdout",
     "output_type": "stream",
     "text": [
      "enter a number5\n",
      "enter a number5\n",
      "enter a number4\n",
      "5 is greater than or equal to 5 and 4\n"
     ]
    }
   ],
   "source": [
    "a=int(input ('enter a number'))\n",
    "b=int(input('enter a number'))\n",
    "c=int(input('enter a number'))\n",
    "\n",
    "if(a>=b and a>=c):\n",
    "    print('{} is greater than or equal to {} and {}'.format(a,b,c))\n",
    "elif(b>=a and b>=c):\n",
    "    print('{} is greater than or equal to {} and {}'.format(b,a,c))\n",
    "else:\n",
    "    print('{} is greater than {} and {}'.format(c,a,b))"
   ]
  },
  {
   "cell_type": "code",
   "execution_count": 10,
   "metadata": {},
   "outputs": [
    {
     "name": "stdout",
     "output_type": "stream",
     "text": [
      "Enter a number5\n",
      "5 is odd number\n"
     ]
    }
   ],
   "source": [
    "a=int(input('Enter a number'))\n",
    "if(a%2==0):\n",
    "    print('{} is even number'.fromat(a))\n",
    "else:\n",
    "    print('{} is odd number'.format(a))"
   ]
  },
  {
   "cell_type": "code",
   "execution_count": 20,
   "metadata": {},
   "outputs": [
    {
     "name": "stdout",
     "output_type": "stream",
     "text": [
      "odd\n"
     ]
    }
   ],
   "source": [
    "a=29\n",
    "if(a%2==0 and a in range(2,6)):\n",
    "    print('even')\n",
    "else:\n",
    "    print('odd')"
   ]
  },
  {
   "cell_type": "code",
   "execution_count": 3,
   "metadata": {},
   "outputs": [
    {
     "name": "stdout",
     "output_type": "stream",
     "text": [
      "Weird\n"
     ]
    }
   ],
   "source": [
    "n = 29\n",
    "if(n%2==0 and n in range(2,6)):\n",
    "    print('Not Weird')\n",
    "elif(n%2==0 and n in range(6,21)):\n",
    "    print('Weird')\n",
    "elif(n%2==0 and n>20):\n",
    "    print('Not Weird')\n",
    "else:\n",
    "    print('Weird')\n",
    "            "
   ]
  },
  {
   "cell_type": "code",
   "execution_count": 7,
   "metadata": {},
   "outputs": [
    {
     "ename": "IndentationError",
     "evalue": "unindent does not match any outer indentation level (<tokenize>, line 3)",
     "output_type": "error",
     "traceback": [
      "\u001b[1;36m  File \u001b[1;32m\"<tokenize>\"\u001b[1;36m, line \u001b[1;32m3\u001b[0m\n\u001b[1;33m    elif(n%2==0 and n in range(6,21)):\u001b[0m\n\u001b[1;37m    ^\u001b[0m\n\u001b[1;31mIndentationError\u001b[0m\u001b[1;31m:\u001b[0m unindent does not match any outer indentation level\n"
     ]
    }
   ],
   "source": [
    "if(n%2==0 and n in range(2,6)):\n",
    "        print('Not Weird')\n",
    "    elif(n%2==0 and n in range(6,21)):\n",
    "        print('Weird')\n",
    "    elif(n%2==0 and n>20):\n",
    "        print('Not Weird')\n",
    "    else:\n",
    "        print('Weird')"
   ]
  },
  {
   "cell_type": "code",
   "execution_count": 10,
   "metadata": {},
   "outputs": [
    {
     "name": "stdout",
     "output_type": "stream",
     "text": [
      "True\n"
     ]
    }
   ],
   "source": [
    "year=2100\n",
    "    \n",
    "    # Write your logic here\n",
    "if(year%4==0):\n",
    "    print('True')\n",
    "else:\n",
    "    print('false')\n",
    "    \n"
   ]
  },
  {
   "cell_type": "code",
   "execution_count": null,
   "metadata": {},
   "outputs": [],
   "source": [
    "\n",
    "    "
   ]
  },
  {
   "cell_type": "code",
   "execution_count": null,
   "metadata": {},
   "outputs": [],
   "source": []
  }
 ],
 "metadata": {
  "kernelspec": {
   "display_name": "Python 3",
   "language": "python",
   "name": "python3"
  },
  "language_info": {
   "codemirror_mode": {
    "name": "ipython",
    "version": 3
   },
   "file_extension": ".py",
   "mimetype": "text/x-python",
   "name": "python",
   "nbconvert_exporter": "python",
   "pygments_lexer": "ipython3",
   "version": "3.8.5"
  }
 },
 "nbformat": 4,
 "nbformat_minor": 4
}
