{
 "cells": [
  {
   "cell_type": "code",
   "execution_count": 1,
   "metadata": {},
   "outputs": [],
   "source": [
    "from abc import ABC,abstractmethod"
   ]
  },
  {
   "cell_type": "code",
   "execution_count": 11,
   "metadata": {},
   "outputs": [
    {
     "name": "stdout",
     "output_type": "stream",
     "text": [
      "whiteboard class has been called\n",
      "desktop class method has been called\n",
      "computer abstract method has been called\n"
     ]
    }
   ],
   "source": [
    "class computer(ABC):\n",
    "    @abstractmethod\n",
    "    def comp(self):\n",
    "        pass\n",
    "class laptop(computer):\n",
    "    def comp(self):\n",
    "        print('computer abstract method has been called')\n",
    "class desktop:\n",
    "    def desk(self):\n",
    "        print('desktop class method has been called')\n",
    "class whiteboard:\n",
    "    def whiteb(self):\n",
    "        print('whiteboard class has been called')\n",
    "    def call(self,com):\n",
    "        com.desk(self)\n",
    "    def call2(self,com):\n",
    "        com.comp(self)\n",
    "        \n",
    "'''l1=laptop()\n",
    "l1.comp()'''\n",
    "w=whiteboard()\n",
    "w.whiteb()\n",
    "w.call(desktop)\n",
    "w.call2(laptop)\n",
    "    "
   ]
  },
  {
   "cell_type": "code",
   "execution_count": 2,
   "metadata": {},
   "outputs": [
    {
     "name": "stdout",
     "output_type": "stream",
     "text": [
      "10\n",
      "20\n"
     ]
    }
   ],
   "source": [
    "class a:\n",
    "    def __init__(self,a,b):\n",
    "        self.a=a\n",
    "        self.b=b\n",
    "        \n",
    "class b:\n",
    "    @staticmethod\n",
    "    def callabc(n):\n",
    "        print(n.a)\n",
    "        print(n.b)\n",
    "ab=a(10,20)\n",
    "b.callabc(ab)\n"
   ]
  },
  {
   "cell_type": "code",
   "execution_count": 2,
   "metadata": {},
   "outputs": [
    {
     "name": "stdout",
     "output_type": "stream",
     "text": [
      "Tiger can run\n",
      "parrot can fly\n",
      "penguine can swim\n"
     ]
    }
   ],
   "source": [
    "class bird:\n",
    "    def parrot(self):\n",
    "        print('parrot can fly')\n",
    "    def penguine(self):\n",
    "        print('penguine can swim')\n",
    "class animal:\n",
    "    def tiger(self):\n",
    "        print('Tiger can run')\n",
    "    def call(self,com):\n",
    "        com.parrot(self)\n",
    "    def call1(self,com):\n",
    "        com.penguine(self)\n",
    "        \n",
    "a=animal()\n",
    "a.tiger()\n",
    "a.call(bird)\n",
    "a.call1(bird)"
   ]
  },
  {
   "cell_type": "code",
   "execution_count": 2,
   "metadata": {},
   "outputs": [
    {
     "name": "stdout",
     "output_type": "stream",
     "text": [
      "class b function called\n",
      "class a function\n"
     ]
    }
   ],
   "source": [
    "class a:\n",
    "    def abc(self):\n",
    "        print('class a function')\n",
    "class b:\n",
    "    def bcd(self):\n",
    "        print('class b function called')\n",
    "    def call(self,com):\n",
    "        com.abc(self)\n",
    "b1=b()\n",
    "b1.bcd()\n",
    "b1.call(a)"
   ]
  },
  {
   "cell_type": "code",
   "execution_count": 3,
   "metadata": {},
   "outputs": [
    {
     "name": "stdout",
     "output_type": "stream",
     "text": [
      "Parent class called\n",
      "Child class called\n"
     ]
    }
   ],
   "source": [
    "class parent:\n",
    "    def par(self):\n",
    "        print('Parent class called')\n",
    "class child:\n",
    "    def chi(self):\n",
    "        print('Child class called')\n",
    "    def callpar(self,call):\n",
    "        call.par(self)\n",
    "    def callchi(self,call):\n",
    "        call.chi(self)\n",
    "c=child()\n",
    "c.callpar(parent)\n",
    "c.callchi(child)"
   ]
  },
  {
   "cell_type": "code",
   "execution_count": 5,
   "metadata": {},
   "outputs": [
    {
     "name": "stdout",
     "output_type": "stream",
     "text": [
      "class a function\n",
      "class b function\n"
     ]
    }
   ],
   "source": [
    "class a:\n",
    "    def classa(self):\n",
    "        print('class a function')\n",
    "class b:\n",
    "    def classb(self):\n",
    "        print('class b function')\n",
    "class c:\n",
    "    def callclassa(self,call):\n",
    "        call.classa(self)\n",
    "    def callclassb(self,call):\n",
    "        call.classb(self)\n",
    "c=c()\n",
    "c.callclassa(a)\n",
    "c.callclassb(b)\n",
    "        "
   ]
  },
  {
   "cell_type": "code",
   "execution_count": 2,
   "metadata": {},
   "outputs": [
    {
     "name": "stdout",
     "output_type": "stream",
     "text": [
      "Bird can fly\n",
      "Bird cannot swim\n",
      "Animal cannot fly\n",
      "Animal can swim \n"
     ]
    }
   ],
   "source": [
    "class bird:\n",
    "    def fly(self):\n",
    "        print('Bird can fly')\n",
    "    def swim(self):\n",
    "        print('Bird cannot swim')\n",
    "class Animal:\n",
    "    def fly(self):\n",
    "        print('Animal cannot fly')\n",
    "    def swim(self):\n",
    "        print('Animal can swim ')\n",
    "def abc(a):\n",
    "    a.fly()\n",
    "    a.swim()\n",
    "b=bird()\n",
    "a=Animal()\n",
    "\n",
    "abc(b)\n",
    "abc(a)\n",
    "\n",
    "    "
   ]
  },
  {
   "cell_type": "code",
   "execution_count": 14,
   "metadata": {},
   "outputs": [
    {
     "name": "stdout",
     "output_type": "stream",
     "text": [
      "21000\n",
      "Employee number is1\n",
      "Employee name is ss\n",
      "Employee sal is 21000\n"
     ]
    }
   ],
   "source": [
    "class Employee:\n",
    "    def __init__(self,eno,ename,esal):\n",
    "        self.eno=eno\n",
    "        self.ename=ename\n",
    "        self.esal=esal\n",
    "    def display(self):\n",
    "        print('Employee number is{}\\nEmployee name is {}\\nEmployee sal is {}'.format(self.eno,self.ename,self.esal))\n",
    "class Test:\n",
    "    def modify(emp):\n",
    "        emp.esal=emp.esal+1000\n",
    "        print(emp.esal)\n",
    "        emp.display()\n",
    "e=Employee(1,'ss',20000)\n",
    "Test.modify(e)"
   ]
  },
  {
   "cell_type": "code",
   "execution_count": 18,
   "metadata": {},
   "outputs": [
    {
     "name": "stdout",
     "output_type": "stream",
     "text": [
      "Hello from class abc\n"
     ]
    }
   ],
   "source": [
    "class abc:\n",
    "    def get(self):\n",
    "        print('Hello from class abc')\n",
    "class b:\n",
    "    def display(self,conn):\n",
    "        conn.get(self)\n",
    "b=b()\n",
    "b.display(abc)\n",
    "\n"
   ]
  },
  {
   "cell_type": "code",
   "execution_count": null,
   "metadata": {},
   "outputs": [],
   "source": []
  }
 ],
 "metadata": {
  "kernelspec": {
   "display_name": "Python 3",
   "language": "python",
   "name": "python3"
  },
  "language_info": {
   "codemirror_mode": {
    "name": "ipython",
    "version": 3
   },
   "file_extension": ".py",
   "mimetype": "text/x-python",
   "name": "python",
   "nbconvert_exporter": "python",
   "pygments_lexer": "ipython3",
   "version": "3.8.5"
  }
 },
 "nbformat": 4,
 "nbformat_minor": 4
}
