{
 "cells": [
  {
   "cell_type": "code",
   "execution_count": 1,
   "metadata": {},
   "outputs": [],
   "source": [
    "#Print number of lines,words,character in files"
   ]
  },
  {
   "cell_type": "code",
   "execution_count": 2,
   "metadata": {},
   "outputs": [],
   "source": [
    "import os"
   ]
  },
  {
   "cell_type": "code",
   "execution_count": 3,
   "metadata": {},
   "outputs": [
    {
     "name": "stdout",
     "output_type": "stream",
     "text": [
      "Enter datahello everyone how you all are doing\n"
     ]
    }
   ],
   "source": [
    "data=input('Enter data')\n",
    "f=open('data1.txt','w')\n",
    "f.write(data)\n",
    "f.close()"
   ]
  },
  {
   "cell_type": "code",
   "execution_count": 5,
   "metadata": {},
   "outputs": [
    {
     "name": "stdout",
     "output_type": "stream",
     "text": [
      "hello everyone how you all are doing\n"
     ]
    }
   ],
   "source": [
    "with open('data1.txt','r') as f:\n",
    "    print(f.read())"
   ]
  },
  {
   "cell_type": "code",
   "execution_count": 1,
   "metadata": {},
   "outputs": [
    {
     "name": "stdout",
     "output_type": "stream",
     "text": [
      "Enter file nameabc.txt\n",
      "File exists\n",
      "no of lines 4\n"
     ]
    }
   ],
   "source": [
    "import os\n",
    "fname=input('Enter file name')\n",
    "if os.path.isfile(fname):\n",
    "    print('File exists')\n",
    "    f=open(fname,'r')\n",
    "    lcount=wcount=ccount=0\n",
    "    for line in f:\n",
    "        lcount=lcount+1\n",
    "        \n",
    "    print('no of lines',lcount)"
   ]
  },
  {
   "cell_type": "code",
   "execution_count": 5,
   "metadata": {},
   "outputs": [
    {
     "name": "stdout",
     "output_type": "stream",
     "text": [
      "Enter filenamebbb.txt\n",
      "bbb.txt file name not exist\n"
     ]
    }
   ],
   "source": [
    "import os\n",
    "fname=input('Enter filename')\n",
    "if os.path.isfile(fname):\n",
    "    print('File name exists')\n",
    "    f=open(fname,'r')\n",
    "    lcount=wcount=ccount=0\n",
    "    for line in f:\n",
    "        lcount=lcount+1\n",
    "        word=line.split()\n",
    "        wcount=wcount+len(word)\n",
    "        ccount=ccount+len(line)\n",
    "    print('lines are',lcount)\n",
    "    print('Words are',wcount)\n",
    "    print('characters are',ccount)\n",
    "else:\n",
    "    print('{} file name not exist'.format(fname))\n",
    "        "
   ]
  },
  {
   "cell_type": "code",
   "execution_count": 2,
   "metadata": {},
   "outputs": [
    {
     "name": "stdout",
     "output_type": "stream",
     "text": [
      "14\n"
     ]
    }
   ],
   "source": [
    "l='Hello everyone'\n",
    "print(len(l))"
   ]
  },
  {
   "cell_type": "code",
   "execution_count": 15,
   "metadata": {},
   "outputs": [
    {
     "name": "stdout",
     "output_type": "stream",
     "text": [
      "10\n"
     ]
    }
   ],
   "source": [
    "l=[1,2,3,10]\n",
    "c=0\n",
    "for i in l:\n",
    "    c=c+1\n",
    "len(l)\n",
    "\n",
    "c='hello boys'\n",
    "print(len(c))"
   ]
  },
  {
   "cell_type": "code",
   "execution_count": 9,
   "metadata": {},
   "outputs": [],
   "source": [
    "import os"
   ]
  },
  {
   "cell_type": "code",
   "execution_count": 10,
   "metadata": {},
   "outputs": [
    {
     "name": "stdout",
     "output_type": "stream",
     "text": [
      "Enter file name abc.txt\n",
      "File exist\n",
      "Hello everyone\n",
      "Hello everyone\n",
      "Hello everyone\n",
      "Hello everyone\n",
      "\n"
     ]
    }
   ],
   "source": [
    "fname=input('Enter file name ')\n",
    "if os.path.isfile(fname):\n",
    "    print('File exist')\n",
    "    with open(fname,'r') as f:\n",
    "        print(f.read())"
   ]
  },
  {
   "cell_type": "code",
   "execution_count": 17,
   "metadata": {},
   "outputs": [
    {
     "name": "stdout",
     "output_type": "stream",
     "text": [
      "Enter filenameabc.txt\n",
      "file name exist\n",
      "lcount= 4\n",
      "wcount= 8\n",
      "ccount= 60\n"
     ]
    }
   ],
   "source": [
    "fname=input('Enter filename')\n",
    "if os.path.isfile(fname):\n",
    "    print('file name exist')\n",
    "    with open(fname,'r') as f:\n",
    "        lcount=wcount=ccount=0\n",
    "        for line in f:\n",
    "            lcount=lcount+1\n",
    "            word=line.split()\n",
    "            wcount=wcount+len(word)\n",
    "            ccount=ccount+len(line)\n",
    "        print('lcount=',lcount)\n",
    "        print('wcount=',wcount)\n",
    "        print('ccount=',ccount)\n",
    "else:\n",
    "    print('File name does not exists')\n",
    "            \n",
    "            "
   ]
  },
  {
   "cell_type": "code",
   "execution_count": 20,
   "metadata": {},
   "outputs": [
    {
     "name": "stdout",
     "output_type": "stream",
     "text": [
      "Enter filenameabc.txt\n",
      "File exists\n",
      "False\n",
      "lcount= 4\n",
      "wcount= 8\n",
      "ccount= 60\n",
      "True\n"
     ]
    }
   ],
   "source": [
    "fname=input('Enter filename')\n",
    "if os.path.isfile(fname):\n",
    "    print('File exists')\n",
    "    with open(fname,'r') as f:\n",
    "        print(f.closed)\n",
    "        lcount=wcount=ccount=0\n",
    "        for line in f:\n",
    "            lcount=lcount+1\n",
    "            word=line.split()\n",
    "            wcount=wcount+len(word)\n",
    "            ccount=ccount+len(line)\n",
    "        print('lcount=',lcount)\n",
    "        print('wcount=',wcount)\n",
    "        print('ccount=',ccount)\n",
    "        f.close()\n",
    "        print(f.closed)\n",
    "else:\n",
    "    print('File does not exists')"
   ]
  },
  {
   "cell_type": "code",
   "execution_count": 1,
   "metadata": {},
   "outputs": [
    {
     "name": "stdout",
     "output_type": "stream",
     "text": [
      "Hello everyone\n",
      "Hello everyone\n",
      "Hello everyone\n",
      "Hello everyone\n",
      "sssssssssssssssssssssssssssssss\\nb\\nv\\nb\\nd\n",
      "d\n",
      "d\n",
      "d\n",
      "DDddd\n",
      "True\n"
     ]
    }
   ],
   "source": [
    "with open('abc.txt','r') as f:\n",
    "    print(f.read())\n",
    "print(f.closed)\n",
    "    "
   ]
  },
  {
   "cell_type": "code",
   "execution_count": 2,
   "metadata": {},
   "outputs": [],
   "source": [
    "#Handling CSV files"
   ]
  },
  {
   "cell_type": "code",
   "execution_count": 3,
   "metadata": {},
   "outputs": [],
   "source": [
    "import csv"
   ]
  },
  {
   "cell_type": "code",
   "execution_count": 11,
   "metadata": {},
   "outputs": [
    {
     "name": "stdout",
     "output_type": "stream",
     "text": [
      "Enter name:h\n",
      "Enter addressh\n",
      "Enter age:2\n",
      "Do you want to continue [yes/no]no\n",
      "student details are written to csv fiels\n"
     ]
    }
   ],
   "source": [
    "with open('details.csv','w') as f:\n",
    "    w=csv.writer(f)\n",
    "    w.writerow(['name','address','age'])\n",
    "    while(True):\n",
    "        name=input('Enter name:')\n",
    "        address=input('Enter address')\n",
    "        age=int(input('Enter age:'))\n",
    "        option=input('Do you want to continue [yes/no]')\n",
    "        if option.lower()=='no':\n",
    "            break\n",
    "    print('student details are written to csv fiels')"
   ]
  },
  {
   "cell_type": "code",
   "execution_count": 16,
   "metadata": {},
   "outputs": [
    {
     "ename": "UnsupportedOperation",
     "evalue": "not readable",
     "output_type": "error",
     "traceback": [
      "\u001b[1;31m---------------------------------------------------------------------------\u001b[0m",
      "\u001b[1;31mUnsupportedOperation\u001b[0m                      Traceback (most recent call last)",
      "\u001b[1;32m<ipython-input-16-c0aec380b465>\u001b[0m in \u001b[0;36m<module>\u001b[1;34m\u001b[0m\n\u001b[0;32m      2\u001b[0m     \u001b[0mr\u001b[0m\u001b[1;33m=\u001b[0m\u001b[0mcsv\u001b[0m\u001b[1;33m.\u001b[0m\u001b[0mreader\u001b[0m\u001b[1;33m(\u001b[0m\u001b[0mf\u001b[0m\u001b[1;33m)\u001b[0m\u001b[1;33m\u001b[0m\u001b[1;33m\u001b[0m\u001b[0m\n\u001b[0;32m      3\u001b[0m     \u001b[0mdata\u001b[0m\u001b[1;33m=\u001b[0m\u001b[0mr\u001b[0m\u001b[1;33m\u001b[0m\u001b[1;33m\u001b[0m\u001b[0m\n\u001b[1;32m----> 4\u001b[1;33m     \u001b[1;32mfor\u001b[0m \u001b[0mrow\u001b[0m \u001b[1;32min\u001b[0m \u001b[0mdata\u001b[0m\u001b[1;33m:\u001b[0m\u001b[1;33m\u001b[0m\u001b[1;33m\u001b[0m\u001b[0m\n\u001b[0m\u001b[0;32m      5\u001b[0m         \u001b[1;32mfor\u001b[0m \u001b[0mcolumn\u001b[0m \u001b[1;32min\u001b[0m \u001b[0mrow\u001b[0m\u001b[1;33m:\u001b[0m\u001b[1;33m\u001b[0m\u001b[1;33m\u001b[0m\u001b[0m\n\u001b[0;32m      6\u001b[0m             \u001b[0mprint\u001b[0m\u001b[1;33m(\u001b[0m\u001b[0mcloumn\u001b[0m\u001b[1;33m)\u001b[0m\u001b[1;33m\u001b[0m\u001b[1;33m\u001b[0m\u001b[0m\n",
      "\u001b[1;31mUnsupportedOperation\u001b[0m: not readable"
     ]
    }
   ],
   "source": [
    "with open('details.csv','w') as f:\n",
    "    r=csv.reader(f)\n",
    "    data=r\n",
    "    for row in data:\n",
    "        for column in row:\n",
    "            print(cloumn)\n",
    "        print()"
   ]
  },
  {
   "cell_type": "code",
   "execution_count": 20,
   "metadata": {},
   "outputs": [
    {
     "name": "stdout",
     "output_type": "stream",
     "text": [
      "name d\n",
      "age 3\n",
      "add k\n"
     ]
    }
   ],
   "source": [
    "def abc(**data):\n",
    "    for i,j in data.items():\n",
    "        print(i,j)\n",
    "abc(name='d',age=3,add='k')"
   ]
  },
  {
   "cell_type": "code",
   "execution_count": 25,
   "metadata": {},
   "outputs": [
    {
     "name": "stdout",
     "output_type": "stream",
     "text": [
      "10\n",
      "30\n"
     ]
    }
   ],
   "source": [
    "def abc(*d):\n",
    "    a=0\n",
    "    for i in d:\n",
    "        a=a+i\n",
    "        print(a)\n",
    "abc(10,20)"
   ]
  },
  {
   "cell_type": "code",
   "execution_count": 26,
   "metadata": {},
   "outputs": [
    {
     "name": "stdout",
     "output_type": "stream",
     "text": [
      "3\n"
     ]
    }
   ],
   "source": [
    "print(10//3)"
   ]
  },
  {
   "cell_type": "code",
   "execution_count": 27,
   "metadata": {},
   "outputs": [
    {
     "data": {
      "text/plain": [
       "1"
      ]
     },
     "execution_count": 27,
     "metadata": {},
     "output_type": "execute_result"
    }
   ],
   "source": [
    "10%3"
   ]
  },
  {
   "cell_type": "code",
   "execution_count": 28,
   "metadata": {},
   "outputs": [
    {
     "data": {
      "text/plain": [
       "3"
      ]
     },
     "execution_count": 28,
     "metadata": {},
     "output_type": "execute_result"
    }
   ],
   "source": [
    "123%10"
   ]
  },
  {
   "cell_type": "code",
   "execution_count": 29,
   "metadata": {},
   "outputs": [
    {
     "data": {
      "text/plain": [
       "4"
      ]
     },
     "execution_count": 29,
     "metadata": {},
     "output_type": "execute_result"
    }
   ],
   "source": [
    "1234%10"
   ]
  },
  {
   "cell_type": "code",
   "execution_count": null,
   "metadata": {},
   "outputs": [],
   "source": []
  }
 ],
 "metadata": {
  "kernelspec": {
   "display_name": "Python 3",
   "language": "python",
   "name": "python3"
  },
  "language_info": {
   "codemirror_mode": {
    "name": "ipython",
    "version": 3
   },
   "file_extension": ".py",
   "mimetype": "text/x-python",
   "name": "python",
   "nbconvert_exporter": "python",
   "pygments_lexer": "ipython3",
   "version": "3.7.6"
  }
 },
 "nbformat": 4,
 "nbformat_minor": 4
}
