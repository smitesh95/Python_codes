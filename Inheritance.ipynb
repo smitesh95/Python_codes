{
 "cells": [
  {
   "cell_type": "code",
   "execution_count": 2,
   "metadata": {},
   "outputs": [
    {
     "name": "stdout",
     "output_type": "stream",
     "text": [
      "child class constructor has been called\n",
      "child docstring has been called\n",
      "parent docstring has been called\n",
      "smith hdhs\n",
      "abc jshj\n"
     ]
    }
   ],
   "source": [
    "class parent:\n",
    "    'parent docstring has been called'\n",
    "    def __init__(self,name,lastname):\n",
    "        self.name=name\n",
    "        self.lastname=lastname\n",
    "    def parview(self):\n",
    "        print(self.name+' '+self.lastname)\n",
    "class child(parent):\n",
    "    'child docstring has been called'\n",
    "    def __init__(self):\n",
    "        print('child class constructor has been called')\n",
    "    def childview(self,firstname,lastname):\n",
    "        print(firstname+' '+lastname)\n",
    "        parent.__init__(self,'abc','jshj')\n",
    "c=child()\n",
    "print(c.__doc__)\n",
    "print(parent.__doc__)\n",
    "c.childview('smith','hdhs')\n",
    "c.parview()"
   ]
  },
  {
   "cell_type": "code",
   "execution_count": 29,
   "metadata": {},
   "outputs": [
    {
     "name": "stdout",
     "output_type": "stream",
     "text": [
      "smith\n",
      "12\n"
     ]
    }
   ],
   "source": [
    "class a:\n",
    "    def __init__(self,n,r):\n",
    "        self.name=n\n",
    "        self.rollno=r\n",
    "    \n",
    "    def detail(self):\n",
    "        print(self.name+' '+str(self.rollno))\n",
    "\n",
    "class b:\n",
    "    @staticmethod\n",
    "    def show(s):\n",
    "        print(s.name)\n",
    "        print(s.rollno)\n",
    "                \n",
    "\n",
    "\n",
    "        \n",
    "        \n",
    "s=a('smith',12)\n",
    "b.show(s)"
   ]
  },
  {
   "cell_type": "code",
   "execution_count": 4,
   "metadata": {},
   "outputs": [
    {
     "name": "stdout",
     "output_type": "stream",
     "text": [
      "static vihaan\n",
      "4\n"
     ]
    }
   ],
   "source": [
    "class a:\n",
    "    def __init__(self,name,age):\n",
    "        self.name=name\n",
    "        self.age=age\n",
    "    def set(self):\n",
    "        print(self.name)\n",
    "        print(self.age)\n",
    "class b:\n",
    "    @staticmethod\n",
    "    def show(self):\n",
    "        print('static',self.name)\n",
    "        print('static',self.age)\n",
    "s=a('vihaan',4)\n",
    "b.show(s)"
   ]
  },
  {
   "cell_type": "code",
   "execution_count": 4,
   "metadata": {},
   "outputs": [
    {
     "name": "stdout",
     "output_type": "stream",
     "text": [
      "parent class has been called\n",
      "child1 class called\n",
      "parent class has been called\n",
      "Child2 class called\n"
     ]
    }
   ],
   "source": [
    "#Hierarchy inheritance\n",
    "class parent:\n",
    "    def display(self):\n",
    "        print('parent class has been called')\n",
    "class child1(parent):\n",
    "    def show(self):\n",
    "        print('child1 class called')\n",
    "class child2(parent):\n",
    "    def show(self):\n",
    "        print('Child2 class called')\n",
    "c1=child1()\n",
    "c1.display()\n",
    "c1.show()\n",
    "c2=child2()\n",
    "c2.display()\n",
    "c2.show()"
   ]
  },
  {
   "cell_type": "code",
   "execution_count": 6,
   "metadata": {},
   "outputs": [
    {
     "name": "stdout",
     "output_type": "stream",
     "text": [
      "child class has been called\n",
      "mother class has been called\n",
      "father class has been called\n"
     ]
    }
   ],
   "source": [
    "#Multiple inheritance\n",
    "class mother:\n",
    "    def show1(self):\n",
    "        print('mother class has been called')\n",
    "class father:\n",
    "    def show(self):\n",
    "        print('father class has been called')\n",
    "class child(mother,father):\n",
    "    print('child class has been called')\n",
    "c=child()\n",
    "c.show1()\n",
    "c.show()"
   ]
  },
  {
   "cell_type": "code",
   "execution_count": null,
   "metadata": {},
   "outputs": [],
   "source": []
  }
 ],
 "metadata": {
  "kernelspec": {
   "display_name": "Python 3",
   "language": "python",
   "name": "python3"
  },
  "language_info": {
   "codemirror_mode": {
    "name": "ipython",
    "version": 3
   },
   "file_extension": ".py",
   "mimetype": "text/x-python",
   "name": "python",
   "nbconvert_exporter": "python",
   "pygments_lexer": "ipython3",
   "version": "3.8.5"
  }
 },
 "nbformat": 4,
 "nbformat_minor": 4
}
