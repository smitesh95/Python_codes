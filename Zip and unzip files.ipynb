{
 "cells": [
  {
   "cell_type": "code",
   "execution_count": 1,
   "metadata": {},
   "outputs": [],
   "source": [
    "from zipfile import *"
   ]
  },
  {
   "cell_type": "code",
   "execution_count": 8,
   "metadata": {},
   "outputs": [
    {
     "name": "stdout",
     "output_type": "stream",
     "text": [
      "Zip file created successfully\n"
     ]
    }
   ],
   "source": [
    "f=ZipFile('test.zip','w',ZIP_DEFLATED)\n",
    "f.write('file1.txt')#Files should pe present at location\n",
    "f.write('file2.txt')#Files should pe present at location \n",
    "f.close()\n",
    "print('Zip file created successfully')"
   ]
  },
  {
   "cell_type": "code",
   "execution_count": 15,
   "metadata": {},
   "outputs": [
    {
     "name": "stdout",
     "output_type": "stream",
     "text": [
      "File names file1.txt\n",
      "the content of files are\n",
      "Hello from file1\n",
      "********************\n",
      "File names file2.txt\n",
      "the content of files are\n",
      "Hello from file2\n",
      "********************\n"
     ]
    }
   ],
   "source": [
    "f=ZipFile('test.zip','r',ZIP_STORED)\n",
    "files=f.namelist()\n",
    "for names in files:\n",
    "    print('File names',names)\n",
    "    print('the content of files are')\n",
    "    f=open(names,'r')\n",
    "    print(f.read())\n",
    "    print('*'*20)"
   ]
  },
  {
   "cell_type": "code",
   "execution_count": 14,
   "metadata": {},
   "outputs": [
    {
     "name": "stdout",
     "output_type": "stream",
     "text": [
      "done\n"
     ]
    }
   ],
   "source": [
    "f=open('file2.txt','w')\n",
    "f.write('Hello from file2')\n",
    "f.close()\n",
    "print('done')\n"
   ]
  },
  {
   "cell_type": "code",
   "execution_count": 1,
   "metadata": {},
   "outputs": [
    {
     "name": "stdout",
     "output_type": "stream",
     "text": [
      "File is closed True\n"
     ]
    }
   ],
   "source": [
    "with open('test1.txt','w') as f:\n",
    "    f.write('Hello form test 1')\n",
    "print('File is closed',f.closed)"
   ]
  },
  {
   "cell_type": "code",
   "execution_count": 2,
   "metadata": {},
   "outputs": [
    {
     "name": "stdout",
     "output_type": "stream",
     "text": [
      "File is closed True\n"
     ]
    }
   ],
   "source": [
    "with open('test2.txt','w') as f:\n",
    "    f.write('Hello from test 2')\n",
    "if f.closed==True:\n",
    "    print('File is closed',f.closed)\n",
    "else:\n",
    "    print('File is open')"
   ]
  },
  {
   "cell_type": "code",
   "execution_count": 4,
   "metadata": {},
   "outputs": [],
   "source": [
    "from zipfile import *"
   ]
  },
  {
   "cell_type": "code",
   "execution_count": 10,
   "metadata": {},
   "outputs": [],
   "source": [
    "f=ZipFile('Ziptestfile.zip','w',ZIP_DEFLATED)\n",
    "f.write('test1.txt')\n",
    "f.write('test2.txt')\n",
    "f.close()"
   ]
  },
  {
   "cell_type": "code",
   "execution_count": 27,
   "metadata": {},
   "outputs": [
    {
     "name": "stdout",
     "output_type": "stream",
     "text": [
      "test1.txt\n",
      "The content of test1.txt file \n",
      "--------------------\n",
      "Hello form test 1\n",
      "********************\n",
      "test2.txt\n",
      "The content of test2.txt file \n",
      "--------------------\n",
      "Hello from test 2\n",
      "********************\n",
      "True\n"
     ]
    }
   ],
   "source": [
    "f=ZipFile('Ziptestfile.zip','r',ZIP_STORED)\n",
    "read=f.namelist()\n",
    "for file in read:\n",
    "    print(file)\n",
    "    f=open(file,'r')\n",
    "    print('The content of {} file '.format(file))\n",
    "    print('-'*20)\n",
    "    print(f.read())\n",
    "    print('*'*20)\n",
    "    f.close()\n",
    "    print(f.closed)\n"
   ]
  },
  {
   "cell_type": "code",
   "execution_count": null,
   "metadata": {},
   "outputs": [],
   "source": []
  }
 ],
 "metadata": {
  "kernelspec": {
   "display_name": "Python 3",
   "language": "python",
   "name": "python3"
  },
  "language_info": {
   "codemirror_mode": {
    "name": "ipython",
    "version": 3
   },
   "file_extension": ".py",
   "mimetype": "text/x-python",
   "name": "python",
   "nbconvert_exporter": "python",
   "pygments_lexer": "ipython3",
   "version": "3.8.5"
  }
 },
 "nbformat": 4,
 "nbformat_minor": 4
}
