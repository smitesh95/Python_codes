{
 "cells": [
  {
   "cell_type": "code",
   "execution_count": 1,
   "metadata": {},
   "outputs": [],
   "source": [
    "from threading import *\n",
    "import time"
   ]
  },
  {
   "cell_type": "code",
   "execution_count": 2,
   "metadata": {},
   "outputs": [
    {
     "name": "stdout",
     "output_type": "stream",
     "text": [
      "False\n",
      "False\n"
     ]
    }
   ],
   "source": [
    "mt=current_thread()\n",
    "print(mt.isDaemon())\n",
    "print(mt.daemon)"
   ]
  },
  {
   "cell_type": "code",
   "execution_count": 7,
   "metadata": {},
   "outputs": [
    {
     "name": "stdout",
     "output_type": "stream",
     "text": [
      "Executed by child thread\n",
      "True\n"
     ]
    }
   ],
   "source": [
    "def job():\n",
    "    print('Executed by child thread')\n",
    "t=Thread(target=job)\n",
    "t.setDaemon(True)\n",
    "t.start()\n",
    "print(t.isDaemon())\n",
    "    "
   ]
  },
  {
   "cell_type": "code",
   "execution_count": 10,
   "metadata": {},
   "outputs": [
    {
     "name": "stdout",
     "output_type": "stream",
     "text": [
      "True\n",
      "Executed by t1\n",
      "True\n",
      "Executed by t2\n"
     ]
    }
   ],
   "source": [
    "def job():\n",
    "    print('Executed by t1')\n",
    "    t2=Thread(target=job2)\n",
    "    print(t2.isDaemon())\n",
    "    t2.start()\n",
    "def job2():\n",
    "    print('Executed by t2')\n",
    "t1=Thread(target=job)\n",
    "t1.setDaemon(True)\n",
    "print(t1.isDaemon())\n",
    "t1.start()\n",
    "time.sleep(5)\n",
    "    "
   ]
  },
  {
   "cell_type": "code",
   "execution_count": 12,
   "metadata": {},
   "outputs": [
    {
     "name": "stdout",
     "output_type": "stream",
     "text": [
      "Child thread\n",
      "Child thread\n",
      "Child thread\n",
      "Child thread\n",
      "Child thread\n",
      "Main thread terminates\n",
      "Child thread\n",
      "Child thread\n",
      "Child thread\n",
      "Child thread\n",
      "Child thread\n"
     ]
    }
   ],
   "source": [
    "def job():\n",
    "    for _ in range(10):\n",
    "        print('Child thread')\n",
    "        time.sleep(2)\n",
    "t=Thread(target=job)\n",
    "t.setDaemon(True)\n",
    "t.start()\n",
    "t.join(10)\n",
    "print('Main thread terminates')"
   ]
  },
  {
   "cell_type": "code",
   "execution_count": null,
   "metadata": {},
   "outputs": [],
   "source": []
  }
 ],
 "metadata": {
  "kernelspec": {
   "display_name": "Python 3",
   "language": "python",
   "name": "python3"
  },
  "language_info": {
   "codemirror_mode": {
    "name": "ipython",
    "version": 3
   },
   "file_extension": ".py",
   "mimetype": "text/x-python",
   "name": "python",
   "nbconvert_exporter": "python",
   "pygments_lexer": "ipython3",
   "version": "3.7.6"
  }
 },
 "nbformat": 4,
 "nbformat_minor": 4
}
