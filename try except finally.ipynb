{
 "cells": [
  {
   "cell_type": "code",
   "execution_count": 7,
   "metadata": {},
   "outputs": [
    {
     "name": "stdout",
     "output_type": "stream",
     "text": [
      "Enter a number5\n",
      "Enter second number100\n",
      "0.05\n",
      "Done\n"
     ]
    }
   ],
   "source": [
    "try:\n",
    "    a=int(input('Enter a number'))\n",
    "    b=int(input('Enter second number'))\n",
    "    print(a/b)\n",
    "except ZeroDivisionError:\n",
    "    print('You cannot divide by zero')\n",
    "except ValueError:\n",
    "    print('only use integer')\n",
    "except Exception:\n",
    "    print('something went wrong')\n",
    "finally:\n",
    "    print('Done')\n",
    "    "
   ]
  },
  {
   "cell_type": "code",
   "execution_count": 18,
   "metadata": {},
   "outputs": [
    {
     "name": "stdout",
     "output_type": "stream",
     "text": [
      "1\n",
      "12\n",
      "123\n",
      "1234\n",
      "123\n",
      "12\n",
      "1\n",
      "\n"
     ]
    }
   ],
   "source": [
    "for i in range(1,5):\n",
    "    for j in range(1,i+1):\n",
    "        print(j,end='')\n",
    "    print()\n",
    "for i in range(1,5):\n",
    "    for j in range(1,5-i):\n",
    "        print(j,end='')\n",
    "    print()\n",
    "    \n",
    "    "
   ]
  },
  {
   "cell_type": "code",
   "execution_count": 3,
   "metadata": {},
   "outputs": [
    {
     "name": "stdout",
     "output_type": "stream",
     "text": [
      "hello\n",
      "cannot divide by zero\n",
      "Done\n"
     ]
    }
   ],
   "source": [
    "print('hello')\n",
    "try:\n",
    "    print(10/0)\n",
    "except ZeroDivisionError as msg:\n",
    "    print('cannot divide by zero')\n",
    "    \n",
    "print('Done')\n",
    "    "
   ]
  },
  {
   "cell_type": "code",
   "execution_count": 19,
   "metadata": {},
   "outputs": [
    {
     "name": "stdout",
     "output_type": "stream",
     "text": [
      "Enter a number5\n",
      "Enter a numbertwo\n",
      "Enter valid input\n",
      "Description of error invalid literal for int() with base 10: 'two'\n",
      "Type of error <class 'ValueError'>\n",
      "Name of exception ValueError\n",
      "Type of error <class 'ValueError'>\n"
     ]
    }
   ],
   "source": [
    "try:\n",
    "    x=int(input('Enter a number'))\n",
    "    y=int(input('Enter a number'))\n",
    "    print(x/y)\n",
    "except ZeroDivisionError as msg:\n",
    "    print('cannot diivide by zero',msg)#Description\n",
    "    print('Type of exception',type(msg))\n",
    "    print('Type of exception',msg.__class__)\n",
    "    print('Name of exception',msg.__class__.__name__)\n",
    "    \n",
    "    \n",
    "except ValueError as msg:\n",
    "    print('Enter valid input')\n",
    "    print(\"Description of error\",msg)\n",
    "    print('Type of error',type(msg))\n",
    "    print('Name of exception',msg.__class__.__name__)\n",
    "    print('Type of error',msg.__class__)"
   ]
  },
  {
   "cell_type": "code",
   "execution_count": 22,
   "metadata": {},
   "outputs": [
    {
     "name": "stdout",
     "output_type": "stream",
     "text": [
      "Enter first no5\n",
      "Enter second number0\n",
      "Exception type <class 'ZeroDivisionError'>\n"
     ]
    }
   ],
   "source": [
    "#Base exception which is parent of all the exception\n",
    "try:\n",
    "    x=int(input('Enter first no'))\n",
    "    y=int(input('Enter second number'))\n",
    "    print(x/y)\n",
    "except BaseException as msg:\n",
    "    print('Exception type',type(msg))"
   ]
  },
  {
   "cell_type": "code",
   "execution_count": 24,
   "metadata": {},
   "outputs": [
    {
     "name": "stdout",
     "output_type": "stream",
     "text": [
      "Enter number5\n",
      "Enter numbertwo\n",
      "Enter valid input ValueError\n"
     ]
    }
   ],
   "source": [
    "#Multiple Exception single try block\n",
    "try:\n",
    "    x=int(input('Enter number'))\n",
    "    y=int(input('Enter number'))\n",
    "    print(x/y)\n",
    "except (ZeroDivisionError,ValueError) as msg:\n",
    "    print('Enter valid input',msg.__class__.__name__)"
   ]
  },
  {
   "cell_type": "code",
   "execution_count": 28,
   "metadata": {},
   "outputs": [
    {
     "name": "stdout",
     "output_type": "stream",
     "text": [
      "Enter a number5\n",
      "Enter a number0\n",
      "Enter valid input\n"
     ]
    }
   ],
   "source": [
    "#Except\n",
    "try:\n",
    "    x=int(input('Enter a number'))\n",
    "    y=int(input('Enter a number'))\n",
    "    print(x/y)\n",
    "except ValueError as msg:\n",
    "    print('Enter valid input',msg.__class__.__name__)\n",
    "except:\n",
    "    print('Enter valid input')"
   ]
  },
  {
   "cell_type": "code",
   "execution_count": 30,
   "metadata": {},
   "outputs": [
    {
     "name": "stdout",
     "output_type": "stream",
     "text": [
      "try\n",
      "finally\n"
     ]
    }
   ],
   "source": [
    "#finally block\n",
    "try:\n",
    "    print('try')\n",
    "except:\n",
    "    print('Except')\n",
    "finally:\n",
    "    print('finally')"
   ]
  },
  {
   "cell_type": "code",
   "execution_count": 33,
   "metadata": {},
   "outputs": [
    {
     "name": "stdout",
     "output_type": "stream",
     "text": [
      "Try\n",
      "zero division error\n",
      "finally\n"
     ]
    }
   ],
   "source": [
    "try:\n",
    "    print('Try')\n",
    "    print(10/0)\n",
    "except ZeroDivisionError:\n",
    "    print('zero division error')\n",
    "finally:\n",
    "    print('finally')"
   ]
  },
  {
   "cell_type": "code",
   "execution_count": 36,
   "metadata": {},
   "outputs": [
    {
     "name": "stdout",
     "output_type": "stream",
     "text": [
      "Finally\n"
     ]
    },
    {
     "ename": "ZeroDivisionError",
     "evalue": "division by zero",
     "output_type": "error",
     "traceback": [
      "\u001b[1;31m---------------------------------------------------------------------------\u001b[0m",
      "\u001b[1;31mZeroDivisionError\u001b[0m                         Traceback (most recent call last)",
      "\u001b[1;32m<ipython-input-36-62e8e3059032>\u001b[0m in \u001b[0;36m<module>\u001b[1;34m\u001b[0m\n\u001b[0;32m      1\u001b[0m \u001b[1;32mtry\u001b[0m\u001b[1;33m:\u001b[0m\u001b[1;33m\u001b[0m\u001b[1;33m\u001b[0m\u001b[0m\n\u001b[0;32m      2\u001b[0m     \u001b[1;31m#print('Try')\u001b[0m\u001b[1;33m\u001b[0m\u001b[1;33m\u001b[0m\u001b[1;33m\u001b[0m\u001b[0m\n\u001b[1;32m----> 3\u001b[1;33m     \u001b[0mprint\u001b[0m\u001b[1;33m(\u001b[0m\u001b[1;36m10\u001b[0m\u001b[1;33m/\u001b[0m\u001b[1;36m0\u001b[0m\u001b[1;33m)\u001b[0m\u001b[1;33m\u001b[0m\u001b[1;33m\u001b[0m\u001b[0m\n\u001b[0m\u001b[0;32m      4\u001b[0m \u001b[1;32mexcept\u001b[0m \u001b[0mValueError\u001b[0m\u001b[1;33m:\u001b[0m\u001b[1;33m\u001b[0m\u001b[1;33m\u001b[0m\u001b[0m\n\u001b[0;32m      5\u001b[0m     \u001b[0mprint\u001b[0m\u001b[1;33m(\u001b[0m\u001b[1;34m'value error enter valid input'\u001b[0m\u001b[1;33m)\u001b[0m\u001b[1;33m\u001b[0m\u001b[1;33m\u001b[0m\u001b[0m\n",
      "\u001b[1;31mZeroDivisionError\u001b[0m: division by zero"
     ]
    }
   ],
   "source": [
    "try:\n",
    "    #print('Try')\n",
    "    print(10/0)\n",
    "except ValueError:\n",
    "    print('value error enter valid input')\n",
    "finally:\n",
    "    print('Finally')"
   ]
  },
  {
   "cell_type": "code",
   "execution_count": 37,
   "metadata": {},
   "outputs": [],
   "source": [
    "import os"
   ]
  },
  {
   "cell_type": "code",
   "execution_count": null,
   "metadata": {},
   "outputs": [],
   "source": [
    "try:\n",
    "    print('try')\n",
    "    os._exit(0)\n",
    "except:\n",
    "    print('Error')\n",
    "finally:\n",
    "    print('finally')"
   ]
  },
  {
   "cell_type": "code",
   "execution_count": 2,
   "metadata": {},
   "outputs": [
    {
     "name": "stdout",
     "output_type": "stream",
     "text": [
      "outer try block\n",
      "inner try block\n",
      "inner finally block\n",
      "outer finally block\n"
     ]
    }
   ],
   "source": [
    "#With no Exception\n",
    "try:\n",
    "    print('outer try block')\n",
    "    try:\n",
    "        print('inner try block')\n",
    "    except:\n",
    "        print('inner except block')\n",
    "    finally:\n",
    "        print('inner finally block')\n",
    "except:\n",
    "    print('outer except block')\n",
    "finally:\n",
    "    print('outer finally block')\n",
    "    "
   ]
  },
  {
   "cell_type": "code",
   "execution_count": 3,
   "metadata": {},
   "outputs": [
    {
     "name": "stdout",
     "output_type": "stream",
     "text": [
      "outer try block\n",
      "inner try block\n",
      "inner except block\n",
      "inner finally block\n",
      "Outer finally block\n"
     ]
    }
   ],
   "source": [
    "#With handled exception\n",
    "try:\n",
    "    print('outer try block')\n",
    "    try:\n",
    "        print('inner try block')\n",
    "        print(10/0)\n",
    "    except ZeroDivisionError:\n",
    "        print('inner except block')\n",
    "    finally:\n",
    "        print('inner finally block')\n",
    "except:\n",
    "    print('Outer except block')\n",
    "finally:\n",
    "    print('Outer finally block')"
   ]
  },
  {
   "cell_type": "code",
   "execution_count": 4,
   "metadata": {},
   "outputs": [
    {
     "name": "stdout",
     "output_type": "stream",
     "text": [
      "outer try block\n",
      "inner try block\n",
      "inner finally block\n",
      "outer except block\n",
      "outer finally block\n"
     ]
    }
   ],
   "source": [
    "#With unhandled exception\n",
    "try:\n",
    "    print('outer try block')\n",
    "    try:\n",
    "        print('inner try block')\n",
    "        print(10/0)\n",
    "    except ValueError:\n",
    "        print('inner except block')\n",
    "    finally:\n",
    "        print('inner finally block')\n",
    "except:\n",
    "    print('outer except block')\n",
    "finally:\n",
    "    print('outer finally block')\n",
    "    "
   ]
  },
  {
   "cell_type": "code",
   "execution_count": 5,
   "metadata": {},
   "outputs": [
    {
     "name": "stdout",
     "output_type": "stream",
     "text": [
      "Outer try block\n",
      "Outer except block ZeroDivisionError\n",
      "outer finally block\n"
     ]
    }
   ],
   "source": [
    "#Exception in outer try block\n",
    "try:\n",
    "    print('Outer try block')\n",
    "    print(10/0)\n",
    "    try:\n",
    "        print('inner try block')\n",
    "    except:\n",
    "        print('inner except block')\n",
    "    finally:\n",
    "        print('inner finally block')\n",
    "except (ZeroDivisionError,ValueError) as msg:\n",
    "    print('Outer except block',msg.__class__.__name__)\n",
    "finally:\n",
    "    print('outer finally block')"
   ]
  },
  {
   "cell_type": "code",
   "execution_count": 7,
   "metadata": {},
   "outputs": [
    {
     "name": "stdout",
     "output_type": "stream",
     "text": [
      "finally\n"
     ]
    },
    {
     "ename": "NameError",
     "evalue": "name 'msg' is not defined",
     "output_type": "error",
     "traceback": [
      "\u001b[1;31m---------------------------------------------------------------------------\u001b[0m",
      "\u001b[1;31mZeroDivisionError\u001b[0m                         Traceback (most recent call last)",
      "\u001b[1;32m<ipython-input-7-5380d2e47998>\u001b[0m in \u001b[0;36m<module>\u001b[1;34m\u001b[0m\n\u001b[0;32m      1\u001b[0m \u001b[1;32mtry\u001b[0m\u001b[1;33m:\u001b[0m\u001b[1;33m\u001b[0m\u001b[1;33m\u001b[0m\u001b[0m\n\u001b[1;32m----> 2\u001b[1;33m     \u001b[0mprint\u001b[0m\u001b[1;33m(\u001b[0m\u001b[1;36m10\u001b[0m\u001b[1;33m/\u001b[0m\u001b[1;36m0\u001b[0m\u001b[1;33m)\u001b[0m\u001b[1;33m\u001b[0m\u001b[1;33m\u001b[0m\u001b[0m\n\u001b[0m\u001b[0;32m      3\u001b[0m \u001b[1;32mexcept\u001b[0m\u001b[1;33m:\u001b[0m\u001b[1;33m\u001b[0m\u001b[1;33m\u001b[0m\u001b[0m\n",
      "\u001b[1;31mZeroDivisionError\u001b[0m: division by zero",
      "\nDuring handling of the above exception, another exception occurred:\n",
      "\u001b[1;31mNameError\u001b[0m                                 Traceback (most recent call last)",
      "\u001b[1;32m<ipython-input-7-5380d2e47998>\u001b[0m in \u001b[0;36m<module>\u001b[1;34m\u001b[0m\n\u001b[0;32m      2\u001b[0m     \u001b[0mprint\u001b[0m\u001b[1;33m(\u001b[0m\u001b[1;36m10\u001b[0m\u001b[1;33m/\u001b[0m\u001b[1;36m0\u001b[0m\u001b[1;33m)\u001b[0m\u001b[1;33m\u001b[0m\u001b[1;33m\u001b[0m\u001b[0m\n\u001b[0;32m      3\u001b[0m \u001b[1;32mexcept\u001b[0m\u001b[1;33m:\u001b[0m\u001b[1;33m\u001b[0m\u001b[1;33m\u001b[0m\u001b[0m\n\u001b[1;32m----> 4\u001b[1;33m     \u001b[0mprint\u001b[0m\u001b[1;33m(\u001b[0m\u001b[1;34m'except executed'\u001b[0m\u001b[1;33m,\u001b[0m\u001b[0mmsg\u001b[0m\u001b[1;33m.\u001b[0m\u001b[0m__class__\u001b[0m\u001b[1;33m.\u001b[0m\u001b[0m__name__\u001b[0m\u001b[1;33m)\u001b[0m\u001b[1;33m\u001b[0m\u001b[1;33m\u001b[0m\u001b[0m\n\u001b[0m\u001b[0;32m      5\u001b[0m \u001b[1;32mfinally\u001b[0m\u001b[1;33m:\u001b[0m\u001b[1;33m\u001b[0m\u001b[1;33m\u001b[0m\u001b[0m\n\u001b[0;32m      6\u001b[0m     \u001b[0mprint\u001b[0m\u001b[1;33m(\u001b[0m\u001b[1;34m'finally'\u001b[0m\u001b[1;33m)\u001b[0m\u001b[1;33m\u001b[0m\u001b[1;33m\u001b[0m\u001b[0m\n",
      "\u001b[1;31mNameError\u001b[0m: name 'msg' is not defined"
     ]
    }
   ],
   "source": [
    "try:\n",
    "    print(10/0)\n",
    "except:\n",
    "    print('except executed',msg__class__.__name__)\n",
    "finally:\n",
    "    print('finally')"
   ]
  },
  {
   "cell_type": "code",
   "execution_count": 1,
   "metadata": {},
   "outputs": [
    {
     "name": "stdout",
     "output_type": "stream",
     "text": [
      "outer try block\n",
      "Inner except block\n",
      "Inner finally block\n",
      "Outer else block\n",
      "Outer finall block\n"
     ]
    }
   ],
   "source": [
    "#With else\n",
    "\n",
    "try:\n",
    "    print('outer try block')\n",
    "    try:\n",
    "        print(10/0)\n",
    "    except:\n",
    "        print('Inner except block')\n",
    "    else:\n",
    "        print('Inner else block')\n",
    "    finally:\n",
    "        print('Inner finally block')\n",
    "except:\n",
    "    print('Outer except block')\n",
    "else:\n",
    "    print('Outer else block')\n",
    "finally:\n",
    "    print('Outer finall block')"
   ]
  },
  {
   "cell_type": "code",
   "execution_count": 9,
   "metadata": {},
   "outputs": [
    {
     "name": "stdout",
     "output_type": "stream",
     "text": [
      "Enter age70\n"
     ]
    },
    {
     "ename": "toooldexception",
     "evalue": "You are too old",
     "output_type": "error",
     "traceback": [
      "\u001b[1;31m---------------------------------------------------------------------------\u001b[0m",
      "\u001b[1;31mtoooldexception\u001b[0m                           Traceback (most recent call last)",
      "\u001b[1;32m<ipython-input-9-bd52a505a99f>\u001b[0m in \u001b[0;36m<module>\u001b[1;34m\u001b[0m\n\u001b[0;32m      8\u001b[0m \u001b[0ma\u001b[0m\u001b[1;33m=\u001b[0m\u001b[0mint\u001b[0m\u001b[1;33m(\u001b[0m\u001b[0minput\u001b[0m\u001b[1;33m(\u001b[0m\u001b[1;34m'Enter age'\u001b[0m\u001b[1;33m)\u001b[0m\u001b[1;33m)\u001b[0m\u001b[1;33m\u001b[0m\u001b[1;33m\u001b[0m\u001b[0m\n\u001b[0;32m      9\u001b[0m \u001b[1;32mif\u001b[0m\u001b[1;33m(\u001b[0m\u001b[0ma\u001b[0m\u001b[1;33m>\u001b[0m\u001b[1;36m60\u001b[0m\u001b[1;33m)\u001b[0m\u001b[1;33m:\u001b[0m\u001b[1;33m\u001b[0m\u001b[1;33m\u001b[0m\u001b[0m\n\u001b[1;32m---> 10\u001b[1;33m     \u001b[1;32mraise\u001b[0m \u001b[0mtoooldexception\u001b[0m\u001b[1;33m(\u001b[0m\u001b[1;34m'You are too old'\u001b[0m\u001b[1;33m)\u001b[0m\u001b[1;33m\u001b[0m\u001b[1;33m\u001b[0m\u001b[0m\n\u001b[0m\u001b[0;32m     11\u001b[0m \u001b[1;32melif\u001b[0m\u001b[1;33m(\u001b[0m\u001b[0ma\u001b[0m\u001b[1;33m<\u001b[0m\u001b[1;36m18\u001b[0m\u001b[1;33m)\u001b[0m\u001b[1;33m:\u001b[0m\u001b[1;33m\u001b[0m\u001b[1;33m\u001b[0m\u001b[0m\n\u001b[0;32m     12\u001b[0m     \u001b[1;32mraise\u001b[0m \u001b[0mtooyoungexception\u001b[0m\u001b[1;33m(\u001b[0m\u001b[1;34m'You are too young'\u001b[0m\u001b[1;33m)\u001b[0m\u001b[1;33m\u001b[0m\u001b[1;33m\u001b[0m\u001b[0m\n",
      "\u001b[1;31mtoooldexception\u001b[0m: You are too old"
     ]
    }
   ],
   "source": [
    "#Create own exception\n",
    "class tooyoungexception(Exception):\n",
    "    def __init__(self,msg):\n",
    "        self.msg=msg\n",
    "class toooldexception(Exception):\n",
    "    def __init__(self,msg):\n",
    "        self.msg=msg\n",
    "a=int(input('Enter age'))\n",
    "if(a>60):\n",
    "    raise toooldexception('You are too old')\n",
    "elif(a<18):\n",
    "    raise tooyoungexception('You are too young')\n",
    "else:\n",
    "    print('You will get match soon')"
   ]
  },
  {
   "cell_type": "code",
   "execution_count": 3,
   "metadata": {},
   "outputs": [
    {
     "name": "stdout",
     "output_type": "stream",
     "text": [
      "Enter age40\n",
      "Perfect\n",
      "Thankyou\n"
     ]
    }
   ],
   "source": [
    "#Liscense example for user defined exception\n",
    "\n",
    "class UnderAgeException(Exception):\n",
    "    pass\n",
    "class OverageException(Exception):\n",
    "    pass\n",
    "\n",
    "class liscense:\n",
    "    age=int(input('Enter age'))\n",
    "    try:\n",
    "        if age>60:\n",
    "            raise OverageException()\n",
    "        elif age<18:\n",
    "            raise UnderAgeException()\n",
    "        else:\n",
    "            print('Perfect')\n",
    "    except UnderAgeException:\n",
    "        print('Your age is less than 18')\n",
    "    except OverageException:\n",
    "        print('Your age is above 60')\n",
    "    finally:\n",
    "        print('Thankyou')\n",
    "\n",
    "c=liscense()\n"
   ]
  },
  {
   "cell_type": "code",
   "execution_count": null,
   "metadata": {},
   "outputs": [],
   "source": []
  }
 ],
 "metadata": {
  "kernelspec": {
   "display_name": "Python 3",
   "language": "python",
   "name": "python3"
  },
  "language_info": {
   "codemirror_mode": {
    "name": "ipython",
    "version": 3
   },
   "file_extension": ".py",
   "mimetype": "text/x-python",
   "name": "python",
   "nbconvert_exporter": "python",
   "pygments_lexer": "ipython3",
   "version": "3.8.5"
  }
 },
 "nbformat": 4,
 "nbformat_minor": 4
}
