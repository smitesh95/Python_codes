{
 "cells": [
  {
   "cell_type": "code",
   "execution_count": 1,
   "metadata": {},
   "outputs": [],
   "source": [
    "from threading import *\n",
    "import time"
   ]
  },
  {
   "cell_type": "code",
   "execution_count": 2,
   "metadata": {},
   "outputs": [
    {
     "name": "stdout",
     "output_type": "stream",
     "text": [
      "number of active thread 5\n",
      "current_thread1 current_thread2 ..started\n",
      "..startedcurrent_thread3active threaed  8\n",
      "..started\n",
      "\n",
      "current_thread1current_thread3 ..ended\n",
      "current_thread2 ..ended\n",
      " ..ended\n",
      "active thread 5\n"
     ]
    }
   ],
   "source": [
    "#Active count\n",
    "def display():\n",
    "    print(current_thread().name,'..started')\n",
    "    time.sleep(3)\n",
    "    print(current_thread().name,'..ended')\n",
    "print('number of active thread',active_count())\n",
    "t1=Thread(target=display,name='current_thread1')\n",
    "t2=Thread(target=display,name='current_thread2')\n",
    "t3=Thread(target=display,name='current_thread3')\n",
    "t1.start()\n",
    "t2.start()\n",
    "t3.start()\n",
    "print('active threaed',active_count())\n",
    "time.sleep(10)\n",
    "print('active thread',active_count())"
   ]
  },
  {
   "cell_type": "code",
   "execution_count": 5,
   "metadata": {},
   "outputs": [
    {
     "name": "stdout",
     "output_type": "stream",
     "text": [
      "hello child thread\n",
      "hello child thread\n",
      "hello child thread\n",
      "hello child thread\n",
      "hello child thread\n",
      "main thread <_MainThread(MainThread, started 13708)>\n",
      "main thread <_MainThread(MainThread, started 13708)>\n",
      "main thread <_MainThread(MainThread, started 13708)>\n",
      "main thread <_MainThread(MainThread, started 13708)>\n",
      "main thread <_MainThread(MainThread, started 13708)>\n"
     ]
    }
   ],
   "source": [
    "def display():\n",
    "    for i in range(5):\n",
    "        print('hello child thread')\n",
    "        time.sleep(2)\n",
    "t=Thread(target=display)\n",
    "t.start()\n",
    "t.join()\n",
    "for i in range(5):\n",
    "    print('main thread',current_thread())\n",
    "    \n",
    "        \n",
    "    "
   ]
  },
  {
   "cell_type": "code",
   "execution_count": null,
   "metadata": {},
   "outputs": [],
   "source": []
  }
 ],
 "metadata": {
  "kernelspec": {
   "display_name": "Python 3",
   "language": "python",
   "name": "python3"
  },
  "language_info": {
   "codemirror_mode": {
    "name": "ipython",
    "version": 3
   },
   "file_extension": ".py",
   "mimetype": "text/x-python",
   "name": "python",
   "nbconvert_exporter": "python",
   "pygments_lexer": "ipython3",
   "version": "3.8.5"
  }
 },
 "nbformat": 4,
 "nbformat_minor": 4
}
