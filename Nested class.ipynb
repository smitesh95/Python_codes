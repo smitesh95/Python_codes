{
 "cells": [
  {
   "cell_type": "code",
   "execution_count": 2,
   "metadata": {},
   "outputs": [
    {
     "name": "stdout",
     "output_type": "stream",
     "text": [
      "Outer class method has been called\n",
      "Inner class function has been called\n"
     ]
    }
   ],
   "source": [
    "class outer:\n",
    "    def m1(self):\n",
    "        print('Outer class method has been called')\n",
    "    class inner:\n",
    "        def m2(self):\n",
    "            print('Inner class function has been called')\n",
    "o=outer()\n",
    "o.m1()\n",
    "i=o.inner()\n",
    "i.m2()"
   ]
  },
  {
   "cell_type": "code",
   "execution_count": 6,
   "metadata": {},
   "outputs": [
    {
     "name": "stdout",
     "output_type": "stream",
     "text": [
      "hello: Durga\n",
      "date of birth:25/5/1947\n"
     ]
    }
   ],
   "source": [
    "class person:\n",
    "    def __init__(self):\n",
    "        self.name='Durga'\n",
    "        self.db=self.Dob()\n",
    "    def display(self):\n",
    "        print('hello:',self.name)\n",
    "    class Dob:\n",
    "        def __init__(self):\n",
    "            self.dd=25\n",
    "            self.mm=5\n",
    "            self.yy=1947\n",
    "            \n",
    "            \n",
    "        def display(self):\n",
    "            print('date of birth:{}/{}/{}'.format(self.dd,self.mm,self.yy))\n",
    "p=person()\n",
    "p.display()\n",
    "p.db.display()"
   ]
  },
  {
   "cell_type": "code",
   "execution_count": 7,
   "metadata": {},
   "outputs": [
    {
     "name": "stdout",
     "output_type": "stream",
     "text": [
      "Hello  sunny\n",
      "Head class method has been called\n",
      "Brain class function has been called\n"
     ]
    }
   ],
   "source": [
    " class Human:\n",
    "        def __init__(self):\n",
    "            self.name='sunny'\n",
    "            self.head=self.Head()\n",
    "            self.brain=self.Brain()\n",
    "        def display(self):\n",
    "            print('Hello ',self.name)\n",
    "            \n",
    "        class Head:\n",
    "            def talk(self):\n",
    "                print('Head class method has been called')\n",
    "        class Brain:\n",
    "            def think(self):\n",
    "                print('Brain class function has been called')\n",
    "h=Human()\n",
    "h.display()\n",
    "h.head.talk()\n",
    "h.brain.think()\n",
    "            "
   ]
  },
  {
   "cell_type": "code",
   "execution_count": null,
   "metadata": {},
   "outputs": [],
   "source": []
  }
 ],
 "metadata": {
  "kernelspec": {
   "display_name": "Python 3",
   "language": "python",
   "name": "python3"
  },
  "language_info": {
   "codemirror_mode": {
    "name": "ipython",
    "version": 3
   },
   "file_extension": ".py",
   "mimetype": "text/x-python",
   "name": "python",
   "nbconvert_exporter": "python",
   "pygments_lexer": "ipython3",
   "version": "3.8.5"
  }
 },
 "nbformat": 4,
 "nbformat_minor": 4
}
