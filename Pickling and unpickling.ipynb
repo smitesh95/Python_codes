{
 "cells": [
  {
   "cell_type": "code",
   "execution_count": 1,
   "metadata": {},
   "outputs": [],
   "source": [
    "import pickle"
   ]
  },
  {
   "cell_type": "code",
   "execution_count": 8,
   "metadata": {},
   "outputs": [
    {
     "name": "stdout",
     "output_type": "stream",
     "text": [
      "pickling has been done\n",
      "abc \t 1 \t 10000 \t 20\n",
      "name \t 2 \t 20000 \t 22\n",
      "unplicking done\n",
      "abc \t 1 \t 10000 \t 20\n",
      "name \t 2 \t 20000 \t 22\n"
     ]
    }
   ],
   "source": [
    "class employee:\n",
    "    def __init__(self,ename,eno,esal,eage):\n",
    "        self.ename=ename\n",
    "        self.eno=eno\n",
    "        self.esal=esal\n",
    "        self.eage=eage\n",
    "    def display(self):\n",
    "        print(self.ename,'\\t',self.eno,'\\t',self.esal,'\\t',self.eage)\n",
    "with open('emp.dat','wb') as f:\n",
    "    e=employee('abc',1,10000,20)\n",
    "    e1=employee('name',2,20000,22)\n",
    "    pickle.dump(e,f)\n",
    "    pickle.dump(e1,f)\n",
    "    print('pickling has been done')\n",
    "    e.display()\n",
    "    e1.display()\n",
    "with open('emp.dat','rb') as f:\n",
    "    obj=pickle.load(f)\n",
    "    obj2=pickle.load(f)\n",
    "    \n",
    "    print('unplicking done')\n",
    "    obj.display()\n",
    "    obj2.display()"
   ]
  },
  {
   "cell_type": "code",
   "execution_count": null,
   "metadata": {},
   "outputs": [],
   "source": []
  }
 ],
 "metadata": {
  "kernelspec": {
   "display_name": "Python 3",
   "language": "python",
   "name": "python3"
  },
  "language_info": {
   "codemirror_mode": {
    "name": "ipython",
    "version": 3
   },
   "file_extension": ".py",
   "mimetype": "text/x-python",
   "name": "python",
   "nbconvert_exporter": "python",
   "pygments_lexer": "ipython3",
   "version": "3.7.6"
  }
 },
 "nbformat": 4,
 "nbformat_minor": 4
}
