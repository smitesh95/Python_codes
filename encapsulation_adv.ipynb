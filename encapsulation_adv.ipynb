{
 "cells": [
  {
   "cell_type": "code",
   "execution_count": 3,
   "metadata": {},
   "outputs": [
    {
     "name": "stdout",
     "output_type": "stream",
     "text": [
      "school : \n",
      " \tName of the school new english\n",
      "college : \n",
      " \tName of the college somaiya\n"
     ]
    }
   ],
   "source": [
    "class school:\n",
    "    def __init__(self,name):\n",
    "        self.name=name\n",
    "    def __str__(self):\n",
    "        return \"school : \" + \"\\n \\tName of the school \" + str(self.name)\n",
    "class college:\n",
    "    def __init__(self,name):\n",
    "        self.name=name\n",
    "    def __str__(self):\n",
    "        return \"college : \" + \"\\n \\tName of the college \" + str(self.name)\n",
    "class display:\n",
    "    def __init__(self,school,college):\n",
    "        self.school=school\n",
    "        self.college=college\n",
    "    def __str__(self):\n",
    "        return str(self.school) + \"\\n\" + str(self.college)\n",
    "\n",
    "s=school('new english')\n",
    "c=college('somaiya')\n",
    "d=display(s,c)\n",
    "print(d)\n",
    "    \n",
    "    \n",
    "        "
   ]
  },
  {
   "cell_type": "code",
   "execution_count": null,
   "metadata": {},
   "outputs": [],
   "source": []
  }
 ],
 "metadata": {
  "kernelspec": {
   "display_name": "Python 3",
   "language": "python",
   "name": "python3"
  },
  "language_info": {
   "codemirror_mode": {
    "name": "ipython",
    "version": 3
   },
   "file_extension": ".py",
   "mimetype": "text/x-python",
   "name": "python",
   "nbconvert_exporter": "python",
   "pygments_lexer": "ipython3",
   "version": "3.8.5"
  }
 },
 "nbformat": 4,
 "nbformat_minor": 4
}
