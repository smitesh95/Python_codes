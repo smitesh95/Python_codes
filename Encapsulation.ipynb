{
 "cells": [
  {
   "cell_type": "code",
   "execution_count": 4,
   "metadata": {},
   "outputs": [
    {
     "name": "stdout",
     "output_type": "stream",
     "text": [
      "1000\n",
      "yellow\n"
     ]
    }
   ],
   "source": [
    "class car:\n",
    "    def __init__(self,speed,color):\n",
    "        speed='0'\n",
    "        color=''\n",
    "    def setspeed(self,value,col):\n",
    "        self.speed=value\n",
    "        self.color=col\n",
    "    def getspeed(self):\n",
    "        return self.speed\n",
    "    def getcolor(self):\n",
    "        return self.color\n",
    "    def cons(self):\n",
    "        print(self.speed)\n",
    "        print(self.color)\n",
    "        \n",
    "a=car(100,'red')\n",
    "a.setspeed(200,'yellow')\n",
    "a.speed=1000\n",
    "print(a.getspeed())\n",
    "print(a.getcolor())"
   ]
  },
  {
   "cell_type": "code",
   "execution_count": 2,
   "metadata": {},
   "outputs": [
    {
     "name": "stdout",
     "output_type": "stream",
     "text": [
      "100\n",
      "red\n"
     ]
    }
   ],
   "source": [
    "#Encapsulation variable\n",
    "class car:\n",
    "    def __init__(self):\n",
    "        speed=0\n",
    "        color=''\n",
    "    def setspeed(self,value,col):\n",
    "        self.__speed=value\n",
    "        self.__color=col\n",
    "    def getspeed(self):\n",
    "        print(self.__speed)\n",
    "        print(self.__color)\n",
    "a=car()\n",
    "a.setspeed(100,'red')\n",
    "a.getspeed()\n"
   ]
  },
  {
   "cell_type": "code",
   "execution_count": 3,
   "metadata": {},
   "outputs": [
    {
     "name": "stdout",
     "output_type": "stream",
     "text": [
      "Encapsulation\n",
      "Driving\n"
     ]
    }
   ],
   "source": [
    "#Encapsulation on methods\n",
    "class car:\n",
    "    def __init__(self):\n",
    "        self.__updatesoftware()\n",
    "    def drive(self):\n",
    "        print('Driving')\n",
    "    def __updatesoftware(self):\n",
    "        print('Encapsulation')\n",
    "a=car()\n",
    "a.drive()"
   ]
  },
  {
   "cell_type": "code",
   "execution_count": 8,
   "metadata": {},
   "outputs": [
    {
     "name": "stdout",
     "output_type": "stream",
     "text": [
      "Constructor is called\n",
      "Encapsulation function is called\n"
     ]
    }
   ],
   "source": [
    "class car:\n",
    "    def __init__(self):\n",
    "        print('Constructor is called')\n",
    "    def __update(self):\n",
    "        print('Encapsulation function is called')\n",
    "    def abd(self):\n",
    "        self.__update()\n",
    "a=car()\n",
    "a.abd()"
   ]
  },
  {
   "cell_type": "code",
   "execution_count": 23,
   "metadata": {},
   "outputs": [
    {
     "name": "stdout",
     "output_type": "stream",
     "text": [
      "10\n"
     ]
    }
   ],
   "source": [
    "class a:\n",
    "    __b=10\n",
    "    def abc(self):\n",
    "        print(self.__b)\n",
    "ab=a()\n",
    "ab.abc()"
   ]
  },
  {
   "cell_type": "code",
   "execution_count": 11,
   "metadata": {},
   "outputs": [
    {
     "name": "stdout",
     "output_type": "stream",
     "text": [
      "Encapsulation is called\n"
     ]
    }
   ],
   "source": [
    "class c:\n",
    "    def __encap(self):\n",
    "        print('Encapsulation is called')\n",
    "    def encap1(self):\n",
    "        self.__encap()\n",
    "c1=c()\n",
    "c1.encap1()"
   ]
  },
  {
   "cell_type": "code",
   "execution_count": 7,
   "metadata": {},
   "outputs": [
    {
     "name": "stdout",
     "output_type": "stream",
     "text": [
      "20\n"
     ]
    }
   ],
   "source": [
    "class a:\n",
    "    def __add(self,a,b):\n",
    "        c=a+b\n",
    "        print(c) \n",
    "    def show(self):\n",
    "        self.__add(10,10)\n",
    "a=a()\n",
    "a.show()\n",
    "\n",
    "\n"
   ]
  },
  {
   "cell_type": "code",
   "execution_count": null,
   "metadata": {},
   "outputs": [],
   "source": []
  }
 ],
 "metadata": {
  "kernelspec": {
   "display_name": "Python 3",
   "language": "python",
   "name": "python3"
  },
  "language_info": {
   "codemirror_mode": {
    "name": "ipython",
    "version": 3
   },
   "file_extension": ".py",
   "mimetype": "text/x-python",
   "name": "python",
   "nbconvert_exporter": "python",
   "pygments_lexer": "ipython3",
   "version": "3.8.5"
  }
 },
 "nbformat": 4,
 "nbformat_minor": 4
}
