{
 "cells": [
  {
   "cell_type": "markdown",
   "metadata": {},
   "source": [
    "# Compile():"
   ]
  },
  {
   "cell_type": "code",
   "execution_count": 1,
   "metadata": {},
   "outputs": [],
   "source": [
    "import re"
   ]
  },
  {
   "cell_type": "code",
   "execution_count": 2,
   "metadata": {},
   "outputs": [],
   "source": [
    "pattern=re.compile('python')\n"
   ]
  },
  {
   "cell_type": "code",
   "execution_count": 3,
   "metadata": {},
   "outputs": [
    {
     "name": "stdout",
     "output_type": "stream",
     "text": [
      "match is available at start index 9\n"
     ]
    }
   ],
   "source": [
    "match=pattern.finditer('Learning python')\n",
    "for m in match:\n",
    "    print('match is available at start index',m.start())"
   ]
  },
  {
   "cell_type": "code",
   "execution_count": 9,
   "metadata": {},
   "outputs": [
    {
     "name": "stdout",
     "output_type": "stream",
     "text": [
      "match is available at start index 9 , end index15, gorup python\n",
      "match is available at start index 21 , end index27, gorup python\n",
      "No. of occurence 2\n"
     ]
    }
   ],
   "source": [
    "count=0\n",
    "match=pattern.finditer('learning python from python tutorials')\n",
    "for m in match:\n",
    "    print('match is available at start index {} , end index{}, gorup {}'.format(m.start(),m.end(),m.group()))\n",
    "    count=count+1\n",
    "print('No. of occurence',count)"
   ]
  },
  {
   "cell_type": "markdown",
   "metadata": {},
   "source": [
    "# Finditer():"
   ]
  },
  {
   "cell_type": "code",
   "execution_count": 10,
   "metadata": {},
   "outputs": [],
   "source": [
    "import re"
   ]
  },
  {
   "cell_type": "code",
   "execution_count": 13,
   "metadata": {},
   "outputs": [
    {
     "name": "stdout",
     "output_type": "stream",
     "text": [
      "Start index 0 , end index 1 , group a\n",
      "Start index 1 , end index 2 , group a\n",
      "Start index 4 , end index 5 , group a\n",
      "Start index 6 , end index 7 , group a\n",
      "Start index 7 , end index 8 , group a\n",
      "no of occurence 5\n"
     ]
    }
   ],
   "source": [
    "match=re.finditer('a','aabbabaab')\n",
    "count=0\n",
    "for m in match:\n",
    "    print('Start index {} , end index {} , group {}'.format(m.start(),m.end(),m.group()))#End=index+1\n",
    "    count=count+1\n",
    "print('no of occurence',count)\n",
    "    "
   ]
  },
  {
   "cell_type": "markdown",
   "metadata": {},
   "source": [
    "# Character Classes"
   ]
  },
  {
   "cell_type": "code",
   "execution_count": 14,
   "metadata": {},
   "outputs": [],
   "source": [
    "import re"
   ]
  },
  {
   "cell_type": "code",
   "execution_count": 18,
   "metadata": {},
   "outputs": [
    {
     "name": "stdout",
     "output_type": "stream",
     "text": [
      "0 .... a\n",
      "2 .... b\n",
      "6 .... a\n"
     ]
    }
   ],
   "source": [
    "#{abc}\n",
    "match=re.finditer('[abc]','a@bCk8a')\n",
    "for m in match:\n",
    "    print(m.start(),'....',m.group())"
   ]
  },
  {
   "cell_type": "code",
   "execution_count": 19,
   "metadata": {},
   "outputs": [
    {
     "name": "stdout",
     "output_type": "stream",
     "text": [
      "1 .... @\n",
      "3 .... C\n",
      "4 .... k\n",
      "5 .... 8\n"
     ]
    }
   ],
   "source": [
    "#{^abc}\n",
    "match=re.finditer('[^abc]','a@bCk8a')\n",
    "for m in match:\n",
    "    print(m.start(),'....',m.group())"
   ]
  },
  {
   "cell_type": "code",
   "execution_count": 21,
   "metadata": {},
   "outputs": [
    {
     "name": "stdout",
     "output_type": "stream",
     "text": [
      "0 .... a\n",
      "2 .... b\n",
      "3 .... c\n"
     ]
    }
   ],
   "source": [
    "#[a-z]\n",
    "match=re.finditer('[a-z]','a@bcA9213')\n",
    "for m in match:\n",
    "    print(m.start(),'....',m.group())"
   ]
  },
  {
   "cell_type": "code",
   "execution_count": 23,
   "metadata": {},
   "outputs": [
    {
     "name": "stdout",
     "output_type": "stream",
     "text": [
      "0 .... A\n",
      "1 .... @\n",
      "6 .... 2\n",
      "7 .... 1\n"
     ]
    }
   ],
   "source": [
    "#[^a-z]\n",
    "match=re.finditer('[^a-z]','A@absf21')\n",
    "for m in match:\n",
    "    print(m.start(),'....',m.group())"
   ]
  },
  {
   "cell_type": "code",
   "execution_count": 29,
   "metadata": {},
   "outputs": [
    {
     "name": "stdout",
     "output_type": "stream",
     "text": [
      "1 .... @\n"
     ]
    }
   ],
   "source": [
    "#[^a-zA-Z0-9]\n",
    "match=re.finditer('[^a-zA-Z0-9]','A@absf21')\n",
    "for m in match:\n",
    "    print(m.start(),'....',m.group())"
   ]
  },
  {
   "cell_type": "markdown",
   "metadata": {},
   "source": [
    "# Pre Defined character cases"
   ]
  },
  {
   "cell_type": "markdown",
   "metadata": {},
   "source": [
    "\\s--space character\n",
    "\\S--Except space character\n",
    "\\w--Any alpha numeric character\n",
    "\\d--Numeric\n",
    "\\W--Special Character\n"
   ]
  },
  {
   "cell_type": "code",
   "execution_count": 35,
   "metadata": {},
   "outputs": [],
   "source": [
    "import re"
   ]
  },
  {
   "cell_type": "code",
   "execution_count": 34,
   "metadata": {},
   "outputs": [
    {
     "name": "stdout",
     "output_type": "stream",
     "text": [
      "5 ....  \n",
      "13 ....  \n",
      "16 ....  \n"
     ]
    }
   ],
   "source": [
    "a='Hello welcome to python'\n",
    "match=re.finditer('\\s',a)\n",
    "for m in match:\n",
    "    print(m.start(),'....',m.group())"
   ]
  },
  {
   "cell_type": "code",
   "execution_count": 41,
   "metadata": {},
   "outputs": [
    {
     "name": "stdout",
     "output_type": "stream",
     "text": [
      "0 .... H\n",
      "1 .... e\n",
      "2 .... l\n",
      "3 .... l\n",
      "4 .... o\n",
      "6 .... w\n",
      "7 .... e\n",
      "8 .... l\n",
      "9 .... c\n",
      "10 .... o\n",
      "11 .... m\n",
      "12 .... e\n",
      "14 .... t\n",
      "15 .... o\n",
      "17 .... p\n",
      "18 .... y\n",
      "19 .... t\n",
      "20 .... h\n",
      "21 .... o\n",
      "22 .... n\n"
     ]
    }
   ],
   "source": [
    "match=re.finditer('\\S',a)\n",
    "if match !=None:\n",
    "    for m in match:\n",
    "        print(m.start(),'....',m.group())\n",
    "else:\n",
    "    print('no character without space')"
   ]
  },
  {
   "cell_type": "code",
   "execution_count": 42,
   "metadata": {},
   "outputs": [
    {
     "name": "stdout",
     "output_type": "stream",
     "text": [
      "4 .... 1\n",
      "5 .... 2\n",
      "6 .... 3\n",
      "7 .... 4\n"
     ]
    }
   ],
   "source": [
    "match=re.finditer('\\d','Abc@1234.com')\n",
    "for m in match:\n",
    "    print(m.start(),'....',m.group())"
   ]
  },
  {
   "cell_type": "code",
   "execution_count": 43,
   "metadata": {},
   "outputs": [
    {
     "name": "stdout",
     "output_type": "stream",
     "text": [
      "4 .... 1\n",
      "5 .... 2\n",
      "6 .... 3\n",
      "7 .... 4\n"
     ]
    }
   ],
   "source": [
    "match=re.finditer('\\d','Abc@1234.com')\n",
    "for m in match:\n",
    "    print(m.start(),'....',m.group())"
   ]
  },
  {
   "cell_type": "code",
   "execution_count": 45,
   "metadata": {},
   "outputs": [
    {
     "name": "stdout",
     "output_type": "stream",
     "text": [
      "0 .... A\n",
      "1 .... b\n",
      "2 .... c\n",
      "4 .... 1\n",
      "5 .... 2\n",
      "6 .... 3\n",
      "7 .... 4\n",
      "9 .... c\n",
      "10 .... o\n",
      "11 .... m\n"
     ]
    }
   ],
   "source": [
    "match=re.finditer('\\w','Abc@1234.com')\n",
    "for m in match:\n",
    "    print(m.start(),'....',m.group())"
   ]
  },
  {
   "cell_type": "code",
   "execution_count": 49,
   "metadata": {},
   "outputs": [
    {
     "name": "stdout",
     "output_type": "stream",
     "text": [
      "3 .... @\n",
      "8 .... .\n"
     ]
    }
   ],
   "source": [
    "match=re.finditer('\\W','Abc@1234.com')\n",
    "for m in match:\n",
    "    print(m.start(),'....',m.group())\n",
    "    "
   ]
  },
  {
   "cell_type": "code",
   "execution_count": 50,
   "metadata": {},
   "outputs": [
    {
     "name": "stdout",
     "output_type": "stream",
     "text": [
      "0 .... A\n",
      "1 .... b\n",
      "2 .... c\n",
      "3 .... @\n",
      "4 .... 1\n",
      "5 .... 2\n",
      "6 .... 3\n",
      "7 .... 4\n",
      "8 .... .\n",
      "9 .... c\n",
      "10 .... o\n",
      "11 .... m\n"
     ]
    }
   ],
   "source": [
    "match=re.finditer('.','Abc@1234.com')\n",
    "for m in match:\n",
    "    print(m.start(),'....',m.group())"
   ]
  },
  {
   "cell_type": "markdown",
   "metadata": {},
   "source": [
    "# Quantifiers"
   ]
  },
  {
   "cell_type": "code",
   "execution_count": 2,
   "metadata": {},
   "outputs": [],
   "source": [
    "import re"
   ]
  },
  {
   "cell_type": "code",
   "execution_count": 3,
   "metadata": {},
   "outputs": [
    {
     "name": "stdout",
     "output_type": "stream",
     "text": [
      "0 .... a\n",
      "1 .... a\n",
      "7 .... a\n"
     ]
    }
   ],
   "source": [
    "match=re.finditer('a','aabsnsba')\n",
    "for m in match:\n",
    "    print(m.start(),'....',m.group())"
   ]
  },
  {
   "cell_type": "code",
   "execution_count": 4,
   "metadata": {},
   "outputs": [
    {
     "name": "stdout",
     "output_type": "stream",
     "text": [
      "0 .... aa\n",
      "5 .... aa\n",
      "11 .... a\n",
      "13 .... a\n"
     ]
    }
   ],
   "source": [
    "#a+  Atleast one a\n",
    "\n",
    "match=re.finditer('a+','aabsbaabsbsaba')\n",
    "for m in match:\n",
    "    print(m.start(),'....',m.group())"
   ]
  },
  {
   "cell_type": "code",
   "execution_count": 6,
   "metadata": {},
   "outputs": [
    {
     "name": "stdout",
     "output_type": "stream",
     "text": [
      "0 .... 5 .... aaaaa\n",
      "5 .... 5 .... \n",
      "6 .... 6 .... \n",
      "7 .... 7 .... \n",
      "8 .... 8 .... \n",
      "9 .... 9 .... \n",
      "10 .... 13 .... aaa\n",
      "13 .... 13 .... \n",
      "14 .... 15 .... a\n",
      "15 .... 15 .... \n"
     ]
    }
   ],
   "source": [
    "#a* Zero or more a\n",
    "\n",
    "match=re.finditer('a*','aaaaansnsnaaana')\n",
    "for m in match:\n",
    "    print(m.start(),'....',m.end(),'....',m.group())"
   ]
  },
  {
   "cell_type": "code",
   "execution_count": 7,
   "metadata": {},
   "outputs": [
    {
     "name": "stdout",
     "output_type": "stream",
     "text": [
      "0 .... 1 .... a\n",
      "1 .... 2 .... a\n",
      "2 .... 3 .... a\n",
      "3 .... 4 .... a\n",
      "4 .... 5 .... a\n",
      "5 .... 5 .... \n",
      "6 .... 6 .... \n",
      "7 .... 7 .... \n",
      "8 .... 8 .... \n",
      "9 .... 9 .... \n",
      "10 .... 11 .... a\n",
      "11 .... 12 .... a\n",
      "12 .... 13 .... a\n",
      "13 .... 13 .... \n"
     ]
    }
   ],
   "source": [
    "#a? one or zero a\n",
    "match=re.finditer('a?','aaaaansnsnaaa')\n",
    "for m in match:\n",
    "    print(m.start(),'....',m.end(),'....',m.group())\n"
   ]
  },
  {
   "cell_type": "code",
   "execution_count": 66,
   "metadata": {},
   "outputs": [
    {
     "name": "stdout",
     "output_type": "stream",
     "text": [
      "0 .... 0 .... a\n",
      "1 .... 1 .... a\n",
      "2 .... 2 .... a\n",
      "3 .... 3 .... a\n",
      "4 .... 4 .... a\n",
      "10 .... 10 .... a\n",
      "11 .... 11 .... a\n",
      "12 .... 12 .... a\n"
     ]
    }
   ],
   "source": [
    "#a{n}  Exact no of a\n",
    "\n",
    "match=re.finditer('a{1}','aaaaansnsnaaa')\n",
    "for m in match:\n",
    "    print(m.start(),'....',m.end()-1,'....',m.group())"
   ]
  },
  {
   "cell_type": "code",
   "execution_count": 70,
   "metadata": {},
   "outputs": [
    {
     "name": "stdout",
     "output_type": "stream",
     "text": [
      "0 .... 3 .... aaaa\n",
      "10 .... 12 .... aaa\n"
     ]
    }
   ],
   "source": [
    "#a{m,n}  m is minimun no pf a and n is maximum no of a\n",
    "\n",
    "match=re.finditer('a{3,4}','aaaaansnsnaaa')\n",
    "for m in match:\n",
    "    print(m.start(),'....',m.end()-1,'....',m.group())"
   ]
  },
  {
   "cell_type": "code",
   "execution_count": 73,
   "metadata": {},
   "outputs": [
    {
     "name": "stdout",
     "output_type": "stream",
     "text": [
      "0 .... 0 .... a\n"
     ]
    }
   ],
   "source": [
    "#^a starts with a\n",
    "match=re.finditer('^a','ansnsnaaa')\n",
    "for m in match:\n",
    "    print(m.start(),'....',m.end()-1,'....',m.group())"
   ]
  },
  {
   "cell_type": "code",
   "execution_count": 74,
   "metadata": {},
   "outputs": [
    {
     "name": "stdout",
     "output_type": "stream",
     "text": [
      "12 .... 12 .... a\n"
     ]
    }
   ],
   "source": [
    "#a$ Ends with a\n",
    "match=re.finditer('a$','aaaaansnsnaaa')\n",
    "for m in match:\n",
    "    print(m.start(),'....',m.end()-1,'....',m.group())"
   ]
  },
  {
   "cell_type": "code",
   "execution_count": null,
   "metadata": {},
   "outputs": [],
   "source": []
  }
 ],
 "metadata": {
  "kernelspec": {
   "display_name": "Python 3",
   "language": "python",
   "name": "python3"
  },
  "language_info": {
   "codemirror_mode": {
    "name": "ipython",
    "version": 3
   },
   "file_extension": ".py",
   "mimetype": "text/x-python",
   "name": "python",
   "nbconvert_exporter": "python",
   "pygments_lexer": "ipython3",
   "version": "3.7.6"
  }
 },
 "nbformat": 4,
 "nbformat_minor": 4
}
