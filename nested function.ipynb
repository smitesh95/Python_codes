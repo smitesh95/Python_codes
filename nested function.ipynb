{
 "cells": [
  {
   "cell_type": "code",
   "execution_count": 1,
   "metadata": {},
   "outputs": [
    {
     "name": "stdout",
     "output_type": "stream",
     "text": [
      "30\n",
      "300\n"
     ]
    }
   ],
   "source": [
    "def outer():\n",
    "    def inner(a,b):\n",
    "        c=a+b\n",
    "        print(c)\n",
    "    inner(10,20)\n",
    "    inner(200,100)\n",
    "outer()"
   ]
  },
  {
   "cell_type": "code",
   "execution_count": 3,
   "metadata": {},
   "outputs": [
    {
     "name": "stdout",
     "output_type": "stream",
     "text": [
      "20\n",
      "30\n"
     ]
    }
   ],
   "source": [
    "def outer():\n",
    "    def inner(a,b):\n",
    "        c=a+b\n",
    "        return c\n",
    "    print(inner(10,10))\n",
    "    print(inner(10,20))\n",
    "outer()\n",
    "        "
   ]
  },
  {
   "cell_type": "code",
   "execution_count": 1,
   "metadata": {},
   "outputs": [
    {
     "data": {
      "text/plain": [
       "40"
      ]
     },
     "execution_count": 1,
     "metadata": {},
     "output_type": "execute_result"
    }
   ],
   "source": [
    "def outer():\n",
    "    def inner(a,b):\n",
    "        c=a+b\n",
    "        return c\n",
    "    return inner\n",
    "f=outer()\n",
    "f(10,20)\n",
    "f(20,20)"
   ]
  },
  {
   "cell_type": "code",
   "execution_count": 5,
   "metadata": {},
   "outputs": [
    {
     "data": {
      "text/plain": [
       "20"
      ]
     },
     "execution_count": 5,
     "metadata": {},
     "output_type": "execute_result"
    }
   ],
   "source": [
    "def outer():\n",
    "    def inner(a,b):\n",
    "        c=a+b\n",
    "        return c\n",
    "    return inner\n",
    "f=outer()\n",
    "f(20,20)\n",
    "f(10,10)"
   ]
  },
  {
   "cell_type": "code",
   "execution_count": 2,
   "metadata": {},
   "outputs": [
    {
     "name": "stdout",
     "output_type": "stream",
     "text": [
      "Outer function started\n",
      "Outer function ended\n",
      "Inner function has been called\n"
     ]
    }
   ],
   "source": [
    "def outer():\n",
    "    print('Outer function started')\n",
    "    def inner():\n",
    "        print('Inner function has been called')\n",
    "    print('Outer function ended')\n",
    "    return inner\n",
    "f=outer()\n",
    "f()"
   ]
  },
  {
   "cell_type": "code",
   "execution_count": 1,
   "metadata": {},
   "outputs": [],
   "source": [
    "#Function decorators"
   ]
  },
  {
   "cell_type": "code",
   "execution_count": 2,
   "metadata": {},
   "outputs": [
    {
     "name": "stdout",
     "output_type": "stream",
     "text": [
      "0.5\n",
      "cannot divide by zero\n",
      "None\n"
     ]
    }
   ],
   "source": [
    "def div(func):\n",
    "    def division(a,b):\n",
    "        if b==0:\n",
    "            print('cannot divide by zero')\n",
    "        else:\n",
    "            return(func(a,b))\n",
    "    return division\n",
    "@div\n",
    "def divide(a,b):\n",
    "    return(a/b)\n",
    "print(divide(10,20))\n",
    "print(divide(10,0))"
   ]
  },
  {
   "cell_type": "code",
   "execution_count": 14,
   "metadata": {},
   "outputs": [
    {
     "name": "stdout",
     "output_type": "stream",
     "text": [
      "6\n"
     ]
    }
   ],
   "source": [
    "def fact(func):\n",
    "    def factorial(n):\n",
    "        if (n==0 or n==1):\n",
    "            return 1\n",
    "        else:\n",
    "            return (func(n))\n",
    "    return factorial\n",
    "@fact\n",
    "def recursive(n):\n",
    "    return n*recursive(n-1)\n",
    "print(recursive(3))\n"
   ]
  },
  {
   "cell_type": "code",
   "execution_count": 6,
   "metadata": {},
   "outputs": [
    {
     "name": "stdout",
     "output_type": "stream",
     "text": [
      "30\n",
      "0\n"
     ]
    }
   ],
   "source": [
    "def addition(func):\n",
    "    def inner(a,b):\n",
    "        if (a==0 and b==0):\n",
    "            return 0\n",
    "        else:\n",
    "            return (func(a,b))\n",
    "    return inner\n",
    "\n",
    "\n",
    "\n",
    "@addition\n",
    "def add(a,b):\n",
    "    return a+b\n",
    "print(add(10,20))\n",
    "print(add(0,0))"
   ]
  },
  {
   "cell_type": "code",
   "execution_count": 2,
   "metadata": {},
   "outputs": [
    {
     "name": "stdout",
     "output_type": "stream",
     "text": [
      "outer function called\n",
      "inner function called\n"
     ]
    }
   ],
   "source": [
    "def outer():\n",
    "    def inner():\n",
    "        print('inner function called')\n",
    "    print('outer function called')\n",
    "    return inner\n",
    "f=outer()\n",
    "f()"
   ]
  },
  {
   "cell_type": "code",
   "execution_count": 4,
   "metadata": {},
   "outputs": [
    {
     "data": {
      "text/plain": [
       "30"
      ]
     },
     "execution_count": 4,
     "metadata": {},
     "output_type": "execute_result"
    }
   ],
   "source": [
    "def outer():\n",
    "    def inner(a,b):\n",
    "        return a+b\n",
    "    return inner\n",
    "f=outer()\n",
    "f(10,20)"
   ]
  },
  {
   "cell_type": "code",
   "execution_count": 9,
   "metadata": {},
   "outputs": [
    {
     "name": "stdout",
     "output_type": "stream",
     "text": [
      "Enter a number5\n",
      "120\n"
     ]
    }
   ],
   "source": [
    "def outer(func):\n",
    "    def inner(n):\n",
    "        if(n==0 or n==1):\n",
    "            return 1\n",
    "        else:\n",
    "            return func(n)\n",
    "    return inner\n",
    "@outer\n",
    "def recursive(n):\n",
    "    return n * recursive(n-1)\n",
    "print(recursive(int(input('Enter a number'))))"
   ]
  },
  {
   "cell_type": "code",
   "execution_count": 13,
   "metadata": {},
   "outputs": [
    {
     "name": "stdout",
     "output_type": "stream",
     "text": [
      "Cannot divide by zero\n",
      "None\n"
     ]
    }
   ],
   "source": [
    "def outer(func):\n",
    "    def inner(a,b):\n",
    "        if b==0:\n",
    "            print('Cannot divide by zero')\n",
    "        else:\n",
    "            return func(a,b)\n",
    "    return inner\n",
    "    \n",
    "@outer\n",
    "def division(a,b):\n",
    "    return a/b\n",
    "print(division(10,0))"
   ]
  },
  {
   "cell_type": "code",
   "execution_count": null,
   "metadata": {},
   "outputs": [],
   "source": []
  }
 ],
 "metadata": {
  "kernelspec": {
   "display_name": "Python 3",
   "language": "python",
   "name": "python3"
  },
  "language_info": {
   "codemirror_mode": {
    "name": "ipython",
    "version": 3
   },
   "file_extension": ".py",
   "mimetype": "text/x-python",
   "name": "python",
   "nbconvert_exporter": "python",
   "pygments_lexer": "ipython3",
   "version": "3.8.5"
  }
 },
 "nbformat": 4,
 "nbformat_minor": 4
}
