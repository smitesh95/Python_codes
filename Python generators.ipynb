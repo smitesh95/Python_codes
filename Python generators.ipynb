{
 "cells": [
  {
   "cell_type": "markdown",
   "metadata": {},
   "source": [
    "# Basic generators\n"
   ]
  },
  {
   "cell_type": "code",
   "execution_count": 8,
   "metadata": {},
   "outputs": [
    {
     "name": "stdout",
     "output_type": "stream",
     "text": [
      "<class 'generator'>\n",
      "a\n",
      "b\n",
      "c\n",
      "d\n"
     ]
    }
   ],
   "source": [
    "def mygen():\n",
    "    yield 'a'\n",
    "    yield 'b'\n",
    "    yield 'c'\n",
    "    yield 'd'\n",
    "gen=mygen()\n",
    "print(type(gen))\n",
    "for i in gen:\n",
    "    print(i)\n",
    "    \n",
    "#print(next(gen))\n"
   ]
  },
  {
   "cell_type": "markdown",
   "metadata": {},
   "source": [
    "# Countdoun"
   ]
  },
  {
   "cell_type": "code",
   "execution_count": 14,
   "metadata": {},
   "outputs": [
    {
     "name": "stdout",
     "output_type": "stream",
     "text": [
      "Countdown starting....\n",
      "10\n",
      "9\n",
      "8\n",
      "7\n",
      "6\n",
      "5\n",
      "4\n",
      "3\n",
      "2\n",
      "1\n",
      "Count down finish\n"
     ]
    }
   ],
   "source": [
    "import time\n",
    "def countdown(num):\n",
    "    print('Countdown starting....')\n",
    "    while num>0:\n",
    "        yield num\n",
    "        num=num-1\n",
    "c=countdown(10)\n",
    "for x in c:\n",
    "    print(x)\n",
    "    time.sleep(1)\n",
    "print('Count down finish')\n"
   ]
  },
  {
   "cell_type": "code",
   "execution_count": 19,
   "metadata": {},
   "outputs": [
    {
     "name": "stdout",
     "output_type": "stream",
     "text": [
      "Countdown start..\n",
      "10\n",
      "9\n",
      "8\n",
      "7\n",
      "6\n",
      "5\n",
      "4\n",
      "let's\n",
      "Start\n",
      "Game\n"
     ]
    }
   ],
   "source": [
    "def countdown(num):\n",
    "    print('Countdown start..')\n",
    "    while num>0:\n",
    "        yield num\n",
    "        num=num-1\n",
    "c=countdown(10)\n",
    "for i in c:\n",
    "    if i==3:\n",
    "        print(\"let's\")\n",
    "        time.sleep(1)\n",
    "        print('Start')\n",
    "        time.sleep(1)\n",
    "        print('Game')\n",
    "        break\n",
    "    else:\n",
    "        print(i)\n",
    "        time.sleep(1)"
   ]
  },
  {
   "cell_type": "markdown",
   "metadata": {},
   "source": [
    "# TO Generate fabonace number"
   ]
  },
  {
   "cell_type": "code",
   "execution_count": 28,
   "metadata": {},
   "outputs": [
    {
     "name": "stdout",
     "output_type": "stream",
     "text": [
      "0\n",
      "1\n",
      "1\n",
      "2\n",
      "3\n",
      "5\n",
      "8\n",
      "13\n",
      "21\n",
      "34\n",
      "55\n",
      "89\n"
     ]
    }
   ],
   "source": [
    "def fab():\n",
    "    a=0\n",
    "    b=1\n",
    "    while True:\n",
    "        yield a\n",
    "        a,b=b,a+b\n",
    "    \n",
    "for n in fab():\n",
    "    if n>100:\n",
    "        break\n",
    "    else:\n",
    "        print(n)"
   ]
  },
  {
   "cell_type": "code",
   "execution_count": 27,
   "metadata": {},
   "outputs": [
    {
     "name": "stdout",
     "output_type": "stream",
     "text": [
      "1 ; 1\n",
      "2 ; 1\n",
      "3 ; 2\n",
      "4 ; 3\n",
      "5 ; 5\n",
      "6 ; 8\n",
      "7 ; 13\n",
      "8 ; 21\n",
      "9 ; 34\n",
      "10 ; 55\n",
      "11 ; 89\n",
      "12 ; 144\n",
      "13 ; 233\n",
      "14 ; 377\n",
      "15 ; 610\n",
      "16 ; 987\n",
      "17 ; 1597\n",
      "18 ; 2584\n",
      "19 ; 4181\n",
      "20 ; 6765\n"
     ]
    }
   ],
   "source": [
    "def fab(n):\n",
    "    if n==1:\n",
    "        return 1\n",
    "    elif n==2:\n",
    "        return 1\n",
    "    elif n>2:\n",
    "        return fab(n-1)+fab(n-2)\n",
    "for n in range(1,21):\n",
    "    print(n,';',fab(n))"
   ]
  },
  {
   "cell_type": "code",
   "execution_count": 29,
   "metadata": {},
   "outputs": [],
   "source": [
    "import random\n",
    "import time"
   ]
  },
  {
   "cell_type": "code",
   "execution_count": 33,
   "metadata": {},
   "outputs": [
    {
     "name": "stdout",
     "output_type": "stream",
     "text": [
      "{'id': 0, 'name': 'd', 'subject': 's3'}\n",
      "{'id': 1, 'name': 'c', 'subject': 's2'}\n",
      "{'id': 2, 'name': 'c', 'subject': 's3'}\n",
      "{'id': 3, 'name': 'c', 'subject': 's2'}\n",
      "{'id': 4, 'name': 'b', 'subject': 's1'}\n",
      "{'id': 5, 'name': 'b', 'subject': 's1'}\n",
      "{'id': 6, 'name': 'd', 'subject': 's1'}\n",
      "{'id': 7, 'name': 'd', 'subject': 's4'}\n",
      "{'id': 8, 'name': 'a', 'subject': 's1'}\n",
      "{'id': 9, 'name': 'a', 'subject': 's4'}\n",
      "{'id': 10, 'name': 'd', 'subject': 's2'}\n",
      "{'id': 11, 'name': 'a', 'subject': 's2'}\n",
      "{'id': 12, 'name': 'd', 'subject': 's3'}\n",
      "{'id': 13, 'name': 'a', 'subject': 's4'}\n",
      "{'id': 14, 'name': 'd', 'subject': 's3'}\n",
      "{'id': 15, 'name': 'd', 'subject': 's4'}\n",
      "{'id': 16, 'name': 'b', 'subject': 's4'}\n",
      "{'id': 17, 'name': 'b', 'subject': 's4'}\n",
      "{'id': 18, 'name': 'c', 'subject': 's1'}\n",
      "{'id': 19, 'name': 'a', 'subject': 's3'}\n",
      "{'id': 20, 'name': 'c', 'subject': 's1'}\n",
      "{'id': 21, 'name': 'b', 'subject': 's3'}\n",
      "{'id': 22, 'name': 'c', 'subject': 's1'}\n",
      "{'id': 23, 'name': 'd', 'subject': 's2'}\n",
      "{'id': 24, 'name': 'a', 'subject': 's3'}\n",
      "{'id': 25, 'name': 'b', 'subject': 's1'}\n",
      "{'id': 26, 'name': 'a', 'subject': 's2'}\n",
      "{'id': 27, 'name': 'd', 'subject': 's2'}\n",
      "{'id': 28, 'name': 'd', 'subject': 's4'}\n",
      "{'id': 29, 'name': 'a', 'subject': 's3'}\n",
      "{'id': 30, 'name': 'b', 'subject': 's1'}\n",
      "{'id': 31, 'name': 'b', 'subject': 's3'}\n",
      "{'id': 32, 'name': 'd', 'subject': 's3'}\n",
      "{'id': 33, 'name': 'd', 'subject': 's2'}\n",
      "{'id': 34, 'name': 'd', 'subject': 's1'}\n",
      "{'id': 35, 'name': 'd', 'subject': 's2'}\n",
      "{'id': 36, 'name': 'b', 'subject': 's3'}\n",
      "{'id': 37, 'name': 'a', 'subject': 's3'}\n",
      "{'id': 38, 'name': 'b', 'subject': 's3'}\n",
      "{'id': 39, 'name': 'b', 'subject': 's4'}\n",
      "{'id': 40, 'name': 'd', 'subject': 's4'}\n",
      "{'id': 41, 'name': 'd', 'subject': 's4'}\n",
      "{'id': 42, 'name': 'a', 'subject': 's4'}\n",
      "{'id': 43, 'name': 'd', 'subject': 's1'}\n",
      "{'id': 44, 'name': 'b', 'subject': 's2'}\n",
      "{'id': 45, 'name': 'c', 'subject': 's4'}\n",
      "{'id': 46, 'name': 'c', 'subject': 's1'}\n",
      "{'id': 47, 'name': 'a', 'subject': 's2'}\n",
      "{'id': 48, 'name': 'b', 'subject': 's1'}\n",
      "{'id': 49, 'name': 'b', 'subject': 's2'}\n",
      "{'id': 50, 'name': 'b', 'subject': 's4'}\n",
      "{'id': 51, 'name': 'c', 'subject': 's3'}\n",
      "{'id': 52, 'name': 'd', 'subject': 's1'}\n",
      "{'id': 53, 'name': 'a', 'subject': 's2'}\n",
      "{'id': 54, 'name': 'd', 'subject': 's3'}\n",
      "{'id': 55, 'name': 'a', 'subject': 's3'}\n",
      "{'id': 56, 'name': 'c', 'subject': 's4'}\n",
      "{'id': 57, 'name': 'c', 'subject': 's3'}\n",
      "{'id': 58, 'name': 'b', 'subject': 's1'}\n",
      "{'id': 59, 'name': 'd', 'subject': 's3'}\n",
      "{'id': 60, 'name': 'd', 'subject': 's4'}\n",
      "{'id': 61, 'name': 'a', 'subject': 's4'}\n",
      "{'id': 62, 'name': 'd', 'subject': 's1'}\n",
      "{'id': 63, 'name': 'b', 'subject': 's3'}\n",
      "{'id': 64, 'name': 'a', 'subject': 's4'}\n",
      "{'id': 65, 'name': 'a', 'subject': 's4'}\n",
      "{'id': 66, 'name': 'b', 'subject': 's1'}\n",
      "{'id': 67, 'name': 'd', 'subject': 's1'}\n",
      "{'id': 68, 'name': 'c', 'subject': 's3'}\n",
      "{'id': 69, 'name': 'a', 'subject': 's1'}\n",
      "{'id': 70, 'name': 'c', 'subject': 's1'}\n",
      "{'id': 71, 'name': 'd', 'subject': 's3'}\n",
      "{'id': 72, 'name': 'b', 'subject': 's1'}\n",
      "{'id': 73, 'name': 'c', 'subject': 's2'}\n",
      "{'id': 74, 'name': 'a', 'subject': 's3'}\n",
      "{'id': 75, 'name': 'd', 'subject': 's2'}\n",
      "{'id': 76, 'name': 'b', 'subject': 's4'}\n",
      "{'id': 77, 'name': 'd', 'subject': 's2'}\n",
      "{'id': 78, 'name': 'c', 'subject': 's3'}\n",
      "{'id': 79, 'name': 'a', 'subject': 's3'}\n",
      "{'id': 80, 'name': 'a', 'subject': 's3'}\n",
      "{'id': 81, 'name': 'c', 'subject': 's4'}\n",
      "{'id': 82, 'name': 'b', 'subject': 's3'}\n",
      "{'id': 83, 'name': 'c', 'subject': 's4'}\n",
      "{'id': 84, 'name': 'a', 'subject': 's1'}\n",
      "{'id': 85, 'name': 'd', 'subject': 's2'}\n",
      "{'id': 86, 'name': 'd', 'subject': 's4'}\n",
      "{'id': 87, 'name': 'c', 'subject': 's2'}\n",
      "{'id': 88, 'name': 'a', 'subject': 's4'}\n",
      "{'id': 89, 'name': 'c', 'subject': 's3'}\n",
      "{'id': 90, 'name': 'a', 'subject': 's2'}\n",
      "{'id': 91, 'name': 'a', 'subject': 's3'}\n",
      "{'id': 92, 'name': 'b', 'subject': 's2'}\n",
      "{'id': 93, 'name': 'd', 'subject': 's1'}\n",
      "{'id': 94, 'name': 'd', 'subject': 's3'}\n",
      "{'id': 95, 'name': 'c', 'subject': 's2'}\n",
      "{'id': 96, 'name': 'c', 'subject': 's2'}\n",
      "{'id': 97, 'name': 'b', 'subject': 's2'}\n",
      "{'id': 98, 'name': 'a', 'subject': 's1'}\n",
      "{'id': 99, 'name': 'd', 'subject': 's1'}\n",
      "time taken 0.006212099999174825\n"
     ]
    },
    {
     "name": "stderr",
     "output_type": "stream",
     "text": [
      "c:\\users\\hp\\appdata\\local\\programs\\python\\python37\\lib\\site-packages\\ipykernel_launcher.py:12: DeprecationWarning: time.clock has been deprecated in Python 3.3 and will be removed from Python 3.8: use time.perf_counter or time.process_time instead\n",
      "  if sys.path[0] == '':\n",
      "c:\\users\\hp\\appdata\\local\\programs\\python\\python37\\lib\\site-packages\\ipykernel_launcher.py:16: DeprecationWarning: time.clock has been deprecated in Python 3.3 and will be removed from Python 3.8: use time.perf_counter or time.process_time instead\n",
      "  app.launch_new_instance()\n"
     ]
    }
   ],
   "source": [
    "names=['a','b','c','d']\n",
    "subject=['s1','s2','s3','s4']\n",
    "def gen(num):\n",
    "    for i in range(num):\n",
    "        person={\n",
    "            'id':i,\n",
    "            'name':random.choice(names),\n",
    "            'subject':random.choice(subject)\n",
    "            \n",
    "        }\n",
    "        yield person\n",
    "t1=time.clock()\n",
    "g=gen(100)\n",
    "for i in g:\n",
    "    print(i)\n",
    "t2=time.clock()\n",
    "print('time taken',t2-t1)\n"
   ]
  },
  {
   "cell_type": "code",
   "execution_count": null,
   "metadata": {},
   "outputs": [],
   "source": []
  }
 ],
 "metadata": {
  "kernelspec": {
   "display_name": "Python 3",
   "language": "python",
   "name": "python3"
  },
  "language_info": {
   "codemirror_mode": {
    "name": "ipython",
    "version": 3
   },
   "file_extension": ".py",
   "mimetype": "text/x-python",
   "name": "python",
   "nbconvert_exporter": "python",
   "pygments_lexer": "ipython3",
   "version": "3.8.5"
  }
 },
 "nbformat": 4,
 "nbformat_minor": 4
}
