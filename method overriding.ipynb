{
 "cells": [
  {
   "cell_type": "code",
   "execution_count": 9,
   "metadata": {},
   "outputs": [
    {
     "name": "stdout",
     "output_type": "stream",
     "text": [
      "class b function has been called\n",
      "class a function has been called\n",
      "docstring\n"
     ]
    }
   ],
   "source": [
    "class a:\n",
    "    'docstring'\n",
    "    def show(self):\n",
    "        print('class a function has been called')\n",
    "class b(a):\n",
    "    def show(self):\n",
    "        print('class b function has been called')\n",
    "        a.show(self)\n",
    "b=b()\n",
    "b.show()\n",
    "print(a.__doc__)\n"
   ]
  },
  {
   "cell_type": "code",
   "execution_count": 6,
   "metadata": {},
   "outputs": [
    {
     "name": "stdout",
     "output_type": "stream",
     "text": [
      "Class b function called xyz\n",
      "Class a function called abc\n"
     ]
    }
   ],
   "source": [
    "class a:\n",
    "    def show(self,name):\n",
    "        print('Class a function called',name)\n",
    "    \n",
    "class b(a):\n",
    "    def show(self,name):\n",
    "        print('Class b function called',name)\n",
    "        a.show(self,'abc')\n",
    "b=b()\n",
    "b.show('xyz')"
   ]
  },
  {
   "cell_type": "code",
   "execution_count": 10,
   "metadata": {},
   "outputs": [
    {
     "name": "stdout",
     "output_type": "stream",
     "text": [
      "30\n",
      "30\n"
     ]
    }
   ],
   "source": [
    "class a:\n",
    "    def add(self,a,b):\n",
    "        c=a+b\n",
    "        print(c)\n",
    "class b:\n",
    "    def add(self,a,b):\n",
    "        c=a+b\n",
    "        print(c)\n",
    "def addition(ad):\n",
    "    ad.add(10,20)\n",
    "    \n",
    "a=a()\n",
    "b=b()\n",
    "\n",
    "addition(a)\n",
    "addition(b)\n",
    "        "
   ]
  },
  {
   "cell_type": "code",
   "execution_count": null,
   "metadata": {},
   "outputs": [],
   "source": []
  }
 ],
 "metadata": {
  "kernelspec": {
   "display_name": "Python 3",
   "language": "python",
   "name": "python3"
  },
  "language_info": {
   "codemirror_mode": {
    "name": "ipython",
    "version": 3
   },
   "file_extension": ".py",
   "mimetype": "text/x-python",
   "name": "python",
   "nbconvert_exporter": "python",
   "pygments_lexer": "ipython3",
   "version": "3.8.5"
  }
 },
 "nbformat": 4,
 "nbformat_minor": 4
}
