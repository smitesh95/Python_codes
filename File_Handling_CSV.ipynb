{
 "cells": [
  {
   "cell_type": "code",
   "execution_count": 1,
   "metadata": {},
   "outputs": [],
   "source": [
    "import csv"
   ]
  },
  {
   "cell_type": "code",
   "execution_count": 9,
   "metadata": {},
   "outputs": [
    {
     "name": "stdout",
     "output_type": "stream",
     "text": [
      "Enter name:hdg\n",
      "Enter address:hsh\n",
      "Enter age:22\n",
      "Enter marks:77\n",
      "Do you want to continue [yes/no]no\n",
      "Details are written in csv file \n"
     ]
    }
   ],
   "source": [
    "with open('studentdata.csv','w',newline='') as f:\n",
    "    w=csv.writer(f)\n",
    "    w.writerow(['name','addtess','age','marks'])\n",
    "    while(True):\n",
    "        name=input('Enter name:')\n",
    "        address=input('Enter address:')\n",
    "        age=int(input('Enter age:'))\n",
    "        marks=int(input('Enter marks:'))\n",
    "        w.writerow([name,address,age,marks])\n",
    "        option=input('Do you want to continue [yes/no]')\n",
    "        if option.lower()=='no':\n",
    "            break\n",
    "    print('Details are written in csv file ')"
   ]
  },
  {
   "cell_type": "code",
   "execution_count": 12,
   "metadata": {},
   "outputs": [
    {
     "name": "stdout",
     "output_type": "stream",
     "text": [
      "['name', 'addtess', 'age', 'marks']\n",
      "['hdg', 'hsh', '22', '77']\n"
     ]
    }
   ],
   "source": [
    "f=open('studentdata.csv','r')\n",
    "r=csv.reader(f)\n",
    "data=list(r)\n",
    "for row in data:\n",
    "    print(row)"
   ]
  },
  {
   "cell_type": "code",
   "execution_count": 19,
   "metadata": {},
   "outputs": [
    {
     "name": "stdout",
     "output_type": "stream",
     "text": [
      "name \taddtess \tage \tmarks \t\n",
      "hdg \thsh \t22 \t77 \t\n"
     ]
    }
   ],
   "source": [
    "f=open('studentdata.csv','r')\n",
    "r=csv.reader(f)\n",
    "data=list(r)\n",
    "for row in data:\n",
    "    for column in row:\n",
    "        print(column,'\\t',end='')\n",
    "    print()"
   ]
  },
  {
   "cell_type": "code",
   "execution_count": 1,
   "metadata": {},
   "outputs": [],
   "source": [
    "import csv\n",
    "data_list = [[\"SN\", \"Name\", \"Contribution\"],\n",
    "             [1, \"Linus Torvalds\", \"Linux Kernel\"],\n",
    "             [2, \"Tim Berners-Lee\", \"World Wide Web\"],\n",
    "             [3, \"Guido van Rossum\", \"Python Programming\"]]\n",
    "with open('innovators.csv', 'w', newline='') as file:\n",
    "    writer = csv.writer(file, delimiter='|')\n",
    "    writer.writerows(data_list)"
   ]
  },
  {
   "cell_type": "code",
   "execution_count": 2,
   "metadata": {},
   "outputs": [],
   "source": [
    "import pandas as pd"
   ]
  },
  {
   "cell_type": "code",
   "execution_count": 7,
   "metadata": {},
   "outputs": [],
   "source": [
    "df=pd.read_csv('innovators.csv',sep='|')\n",
    "a=pd.ExcelWriter('new_innovators.xlsx')\n",
    "new=df.to_excel(a,index=False)"
   ]
  },
  {
   "cell_type": "code",
   "execution_count": 14,
   "metadata": {},
   "outputs": [],
   "source": [
    "df=pd.read_csv('innovators.csv',sep='|')\n",
    "df.head()\n",
    "a=pd.ExcelWriter('New.xlsx')\n",
    "df.to_excel(a,index=False)\n",
    "a.save()"
   ]
  },
  {
   "cell_type": "code",
   "execution_count": null,
   "metadata": {},
   "outputs": [],
   "source": []
  }
 ],
 "metadata": {
  "kernelspec": {
   "display_name": "Python 3",
   "language": "python",
   "name": "python3"
  },
  "language_info": {
   "codemirror_mode": {
    "name": "ipython",
    "version": 3
   },
   "file_extension": ".py",
   "mimetype": "text/x-python",
   "name": "python",
   "nbconvert_exporter": "python",
   "pygments_lexer": "ipython3",
   "version": "3.8.5"
  }
 },
 "nbformat": 4,
 "nbformat_minor": 4
}
