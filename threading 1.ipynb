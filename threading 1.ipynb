{
 "cells": [
  {
   "cell_type": "code",
   "execution_count": 1,
   "metadata": {},
   "outputs": [],
   "source": [
    "#Initilize threads \n",
    "import threading\n",
    "import time"
   ]
  },
  {
   "cell_type": "code",
   "execution_count": 4,
   "metadata": {},
   "outputs": [
    {
     "name": "stdout",
     "output_type": "stream",
     "text": [
      "print current executing thread MainThread\n"
     ]
    }
   ],
   "source": [
    "print('print current executing thread',threading.current_thread().getName())"
   ]
  },
  {
   "cell_type": "code",
   "execution_count": 2,
   "metadata": {},
   "outputs": [],
   "source": [
    "from threading import *\n"
   ]
  },
  {
   "cell_type": "code",
   "execution_count": 3,
   "metadata": {},
   "outputs": [
    {
     "name": "stdout",
     "output_type": "stream",
     "text": [
      "child thread Thread-6\n",
      "main thread MainThread\n"
     ]
    }
   ],
   "source": [
    "#Creating thread without using class\n",
    "def display():\n",
    "    print('child thread',current_thread().getName())\n",
    "    \n",
    "t=Thread(target=display)\n",
    "t.start()\n",
    "print('main thread',current_thread().getName())"
   ]
  },
  {
   "cell_type": "code",
   "execution_count": 4,
   "metadata": {},
   "outputs": [
    {
     "name": "stdout",
     "output_type": "stream",
     "text": [
      "Child thread Thread-7\n",
      "Child thread Thread-7\n",
      "Child thread Thread-7\n",
      "Child thread Thread-7\n",
      "Child thread Thread-7\n",
      "\n",
      " main thread MainThread\n"
     ]
    }
   ],
   "source": [
    "#Creating thread by extending thread class\n",
    "class mythread(Thread):\n",
    "    def run(self):\n",
    "        for i in range(5):\n",
    "            print('Child thread',current_thread().getName())\n",
    "t=mythread()\n",
    "t.start()\n",
    "print('\\n main thread',current_thread().getName())\n"
   ]
  },
  {
   "cell_type": "code",
   "execution_count": 5,
   "metadata": {},
   "outputs": [
    {
     "name": "stdout",
     "output_type": "stream",
     "text": [
      "child thread Thread-8\n",
      "child thread Thread-8\n",
      "child thread Thread-8\n",
      " main thread MainThread\n",
      " main thread child thread Thread-8\n",
      "child thread Thread-8\n",
      "MainThread\n",
      " main thread MainThread\n",
      " main thread MainThread\n",
      " main thread MainThread\n"
     ]
    }
   ],
   "source": [
    "#Creating thread without extending thread class\n",
    "class thread:\n",
    "    def display(self):\n",
    "        for i in range(5):\n",
    "            print('child thread',current_thread().getName())\n",
    "obj=thread()\n",
    "t=Thread(target=obj.display)\n",
    "t.start()\n",
    "for i in range(5):\n",
    "    print(' main thread',current_thread().getName())"
   ]
  },
  {
   "cell_type": "code",
   "execution_count": 2,
   "metadata": {},
   "outputs": [],
   "source": [
    "#Get and Set thread name\n",
    "from threading import *"
   ]
  },
  {
   "cell_type": "code",
   "execution_count": 5,
   "metadata": {},
   "outputs": [
    {
     "name": "stdout",
     "output_type": "stream",
     "text": [
      "MainThread\n",
      "setted name\n"
     ]
    }
   ],
   "source": [
    "print (current_thread().getName())\n",
    "current_thread().setName('setted name')\n",
    "print(current_thread().getName())"
   ]
  },
  {
   "cell_type": "code",
   "execution_count": 10,
   "metadata": {},
   "outputs": [
    {
     "name": "stdout",
     "output_type": "stream",
     "text": [
      "setted name 1\n",
      "setted name 2\n"
     ]
    }
   ],
   "source": [
    "print(current_thread().getName())\n",
    "current_thread().name='setted name 2'\n",
    "print(current_thread().name)"
   ]
  },
  {
   "cell_type": "code",
   "execution_count": 13,
   "metadata": {},
   "outputs": [
    {
     "name": "stdout",
     "output_type": "stream",
     "text": [
      "child thread\n",
      "main thread identification number 13760\n",
      "child thread identification number 13500\n"
     ]
    }
   ],
   "source": [
    "#Thread identification number\n",
    "def name():\n",
    "    print('child thread')\n",
    "t=Thread(target=name)\n",
    "t.start()\n",
    "print('main thread identification number',current_thread().ident)\n",
    "print('child thread identification number',t.ident)"
   ]
  },
  {
   "cell_type": "code",
   "execution_count": null,
   "metadata": {},
   "outputs": [],
   "source": []
  },
  {
   "cell_type": "code",
   "execution_count": null,
   "metadata": {},
   "outputs": [],
   "source": []
  }
 ],
 "metadata": {
  "kernelspec": {
   "display_name": "Python 3",
   "language": "python",
   "name": "python3"
  },
  "language_info": {
   "codemirror_mode": {
    "name": "ipython",
    "version": 3
   },
   "file_extension": ".py",
   "mimetype": "text/x-python",
   "name": "python",
   "nbconvert_exporter": "python",
   "pygments_lexer": "ipython3",
   "version": "3.8.5"
  }
 },
 "nbformat": 4,
 "nbformat_minor": 4
}
