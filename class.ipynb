{
 "cells": [
  {
   "cell_type": "code",
   "execution_count": 5,
   "metadata": {},
   "outputs": [
    {
     "name": "stdout",
     "output_type": "stream",
     "text": [
      "10\n",
      "Hello welcome to python prohramming\n",
      "function has been called\n",
      "10\n"
     ]
    }
   ],
   "source": [
    "class myclass:\n",
    "    #docstring\n",
    "    \"Hello welcome to python prohramming\"\n",
    "    a=10\n",
    "    def func(self):\n",
    "        print('function has been called')\n",
    "        print(self.a)\n",
    "print(myclass.a)\n",
    "print(myclass.__doc__)#To call docstring\n",
    "a=myclass()\n",
    "a.func()\n",
    "    "
   ]
  },
  {
   "cell_type": "code",
   "execution_count": 16,
   "metadata": {},
   "outputs": [
    {
     "name": "stdout",
     "output_type": "stream",
     "text": [
      "constructor has been called\n",
      "id= 2\n",
      "name= sam\n",
      "email= sam@gmail.com\n",
      "To get student information\n",
      "1\n",
      "Default\n",
      "Default@mail.com\n"
     ]
    }
   ],
   "source": [
    "class student:\n",
    "    \"To get student information\"\n",
    "    id=1\n",
    "    school='School'\n",
    "    name='Default'\n",
    "    email='Default@mail.com'\n",
    "    def __init__(self,id,name,email):\n",
    "        print('constructor has been called')\n",
    "        self.id=id\n",
    "        self.name=name\n",
    "        self.email=email\n",
    "    def getdetails(self):\n",
    "        print('id=',self.id)\n",
    "        print('name=',self.name)\n",
    "        print('email=',self.email)\n",
    "c=student(2,'sam','sam@gmail.com')\n",
    "c.getdetails()\n",
    "print(student.__doc__)\n",
    "print(student.id)\n",
    "print(student.name)\n",
    "print(student.email)"
   ]
  },
  {
   "cell_type": "code",
   "execution_count": 1,
   "metadata": {},
   "outputs": [
    {
     "name": "stdout",
     "output_type": "stream",
     "text": [
      "Hii docstring has been called\n"
     ]
    }
   ],
   "source": [
    "class abc:\n",
    "    'Hii docstring has been called'\n",
    "a=abc()\n",
    "print(a.__doc__)"
   ]
  },
  {
   "cell_type": "code",
   "execution_count": 1,
   "metadata": {},
   "outputs": [
    {
     "name": "stdout",
     "output_type": "stream",
     "text": [
      "10\n",
      "20\n"
     ]
    }
   ],
   "source": [
    "class a:\n",
    "    def __init__(self,a,b):\n",
    "        self.a=a\n",
    "        self.b=b\n",
    "class b:\n",
    "    @staticmethod\n",
    "    def callable(c):\n",
    "        print(c.a)\n",
    "        print(c.b)\n",
    "a=a(10,20)\n",
    "b.callable(a)\n",
    "        "
   ]
  },
  {
   "cell_type": "code",
   "execution_count": null,
   "metadata": {},
   "outputs": [],
   "source": []
  }
 ],
 "metadata": {
  "kernelspec": {
   "display_name": "Python 3",
   "language": "python",
   "name": "python3"
  },
  "language_info": {
   "codemirror_mode": {
    "name": "ipython",
    "version": 3
   },
   "file_extension": ".py",
   "mimetype": "text/x-python",
   "name": "python",
   "nbconvert_exporter": "python",
   "pygments_lexer": "ipython3",
   "version": "3.7.6"
  }
 },
 "nbformat": 4,
 "nbformat_minor": 4
}
