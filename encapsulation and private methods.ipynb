{
 "cells": [
  {
   "cell_type": "code",
   "execution_count": 13,
   "metadata": {},
   "outputs": [
    {
     "name": "stdout",
     "output_type": "stream",
     "text": [
      "abc xyz\n"
     ]
    }
   ],
   "source": [
    "class a:\n",
    "    def __init__(self,name,surname):\n",
    "        self.name=name\n",
    "        self.surname=surname\n",
    "        \n",
    "    def __str__(self):\n",
    "        return str(self.name) + ' '+ str(self.surname)\n",
    "a=a('abc','xyz')\n",
    "print(a)"
   ]
  },
  {
   "cell_type": "code",
   "execution_count": 21,
   "metadata": {},
   "outputs": [
    {
     "name": "stdout",
     "output_type": "stream",
     "text": [
      "Data:\n",
      "\t python programming\n"
     ]
    }
   ],
   "source": [
    "class a:\n",
    "    def __init__(self,name,surname):\n",
    "        self.name=name\n",
    "        self.surname=surname\n",
    "        \n",
    "    def __str__(self):\n",
    "        return str(self.name) + ' '+ str(self.surname)\n",
    "    \n",
    "class b:\n",
    "    def __init__(self,data):\n",
    "        \n",
    "        self.data=data\n",
    "    def __str__(self):\n",
    "        return 'Data:\\n\\t '+ str(self.data)\n",
    "a=a('python','programming')\n",
    "b=b(a)\n",
    "print(b)"
   ]
  },
  {
   "cell_type": "code",
   "execution_count": 14,
   "metadata": {},
   "outputs": [
    {
     "name": "stdout",
     "output_type": "stream",
     "text": [
      "abc\n"
     ]
    }
   ],
   "source": [
    "class a:\n",
    "    def __abc(self):\n",
    "        print('abc')\n",
    "a=a()\n",
    "a._a__abc()"
   ]
  },
  {
   "cell_type": "code",
   "execution_count": 15,
   "metadata": {},
   "outputs": [
    {
     "name": "stdout",
     "output_type": "stream",
     "text": [
      "abc\n"
     ]
    }
   ],
   "source": [
    "class a:\n",
    "    def __abc(self):\n",
    "        print('abc')\n",
    "    def abc(self):\n",
    "        self.__abc()\n",
    "a=a()\n",
    "a.abc()"
   ]
  },
  {
   "cell_type": "code",
   "execution_count": 23,
   "metadata": {},
   "outputs": [
    {
     "name": "stdout",
     "output_type": "stream",
     "text": [
      "Class b function called xyz\n",
      "Class a function called abc\n"
     ]
    }
   ],
   "source": [
    "class a:\n",
    "    def show(self,name):\n",
    "        print('Class a function called',name)\n",
    "    \n",
    "class b(a):\n",
    "    def show(self,name):\n",
    "        print('Class b function called',name)\n",
    "        a.show(self,'abc')\n",
    "b=b()\n",
    "b.show('xyz')"
   ]
  },
  {
   "cell_type": "code",
   "execution_count": null,
   "metadata": {},
   "outputs": [],
   "source": []
  }
 ],
 "metadata": {
  "kernelspec": {
   "display_name": "Python 3",
   "language": "python",
   "name": "python3"
  },
  "language_info": {
   "codemirror_mode": {
    "name": "ipython",
    "version": 3
   },
   "file_extension": ".py",
   "mimetype": "text/x-python",
   "name": "python",
   "nbconvert_exporter": "python",
   "pygments_lexer": "ipython3",
   "version": "3.8.5"
  }
 },
 "nbformat": 4,
 "nbformat_minor": 4
}
