{
 "cells": [
  {
   "cell_type": "code",
   "execution_count": 5,
   "metadata": {},
   "outputs": [
    {
     "name": "stdout",
     "output_type": "stream",
     "text": [
      "parrot can fly\n",
      "parrot cannot swim\n",
      "penguin cannot fly\n",
      "penguin can swim\n"
     ]
    }
   ],
   "source": [
    "class parrot:\n",
    "    def fly(self):\n",
    "        print('parrot can fly')\n",
    "    def swim(self):\n",
    "        print('parrot cannot swim')\n",
    "class penguin:\n",
    "    def fly(self):\n",
    "        print('penguin cannot fly')\n",
    "    def swim(self):\n",
    "        print('penguin can swim')\n",
    "        \n",
    "def bird(pakshi):#Common interface\n",
    "    pakshi.fly()\n",
    "    pakshi.swim()\n",
    "    \n",
    "par=parrot()\n",
    "pen=penguin()\n",
    "\n",
    "bird(par)\n",
    "bird(pen)\n",
    "\n",
    "            "
   ]
  },
  {
   "cell_type": "code",
   "execution_count": 7,
   "metadata": {},
   "outputs": [
    {
     "name": "stdout",
     "output_type": "stream",
     "text": [
      "bike has two wheels\n",
      "car has four wheels\n"
     ]
    }
   ],
   "source": [
    "class bike:\n",
    "    def wheels(self):\n",
    "        print('bike has two wheels')\n",
    "class car:\n",
    "    def wheels(self):\n",
    "        print('car has four wheels')\n",
    "def automobile(wheel):\n",
    "    wheel.wheels()\n",
    "\n",
    "b=bike()\n",
    "c=car()\n",
    "\n",
    "automobile(b)\n",
    "automobile(c)\n",
    "    "
   ]
  },
  {
   "cell_type": "code",
   "execution_count": 1,
   "metadata": {},
   "outputs": [
    {
     "name": "stdout",
     "output_type": "stream",
     "text": [
      "Pubg guns\n",
      "callofduty guns\n"
     ]
    }
   ],
   "source": [
    "class pubg:\n",
    "    def guns(self):\n",
    "        print('Pubg guns')\n",
    "class callofduty:\n",
    "    def guns(self):\n",
    "        print('callofduty guns')\n",
    "p=pubg()\n",
    "p.guns()\n",
    "c=callofduty()\n",
    "c.guns()"
   ]
  },
  {
   "cell_type": "code",
   "execution_count": 1,
   "metadata": {},
   "outputs": [
    {
     "name": "stdout",
     "output_type": "stream",
     "text": [
      "pubg guns\n",
      "callofduty guns\n"
     ]
    }
   ],
   "source": [
    "class pubg:\n",
    "    def guns(self):\n",
    "        print('pubg guns')\n",
    "class callofduty:\n",
    "    def guns(self):\n",
    "        print('callofduty guns')\n",
    "def bandook(b):\n",
    "    b.guns()\n",
    "p=pubg()\n",
    "c=callofduty()\n",
    "\n",
    "bandook(p)\n",
    "bandook(c)\n"
   ]
  },
  {
   "cell_type": "code",
   "execution_count": 2,
   "metadata": {},
   "outputs": [],
   "source": [
    "from abc import ABC,abstractmethod"
   ]
  },
  {
   "cell_type": "code",
   "execution_count": 9,
   "metadata": {},
   "outputs": [
    {
     "name": "stdout",
     "output_type": "stream",
     "text": [
      "100\n",
      "20\n"
     ]
    }
   ],
   "source": [
    "class a(ABC):\n",
    "    @abstractmethod\n",
    "    def sum():\n",
    "        pass\n",
    "class b(a):\n",
    "    def mul(self,a,b):\n",
    "        c=a*b\n",
    "        print(c)\n",
    "    def sum(self,a,b):\n",
    "        c=a+b\n",
    "        print(c)\n",
    "b=b()\n",
    "b.mul(10,10)\n",
    "b.sum(10,10)"
   ]
  },
  {
   "cell_type": "code",
   "execution_count": 18,
   "metadata": {},
   "outputs": [
    {
     "name": "stdout",
     "output_type": "stream",
     "text": [
      "Mul function is called\n",
      "Addittion function is called\n"
     ]
    }
   ],
   "source": [
    "class a:\n",
    "    def add(self):\n",
    "        print('Addittion function is called')\n",
    "class b:\n",
    "    def mul(self):\n",
    "        print('Mul function is called')\n",
    "    def call(self,call):\n",
    "        call.add(self)\n",
    "        \n",
    "b=b()\n",
    "b.mul()\n",
    "b.call(a)"
   ]
  },
  {
   "cell_type": "code",
   "execution_count": null,
   "metadata": {},
   "outputs": [],
   "source": []
  }
 ],
 "metadata": {
  "kernelspec": {
   "display_name": "Python 3",
   "language": "python",
   "name": "python3"
  },
  "language_info": {
   "codemirror_mode": {
    "name": "ipython",
    "version": 3
   },
   "file_extension": ".py",
   "mimetype": "text/x-python",
   "name": "python",
   "nbconvert_exporter": "python",
   "pygments_lexer": "ipython3",
   "version": "3.8.5"
  }
 },
 "nbformat": 4,
 "nbformat_minor": 4
}
